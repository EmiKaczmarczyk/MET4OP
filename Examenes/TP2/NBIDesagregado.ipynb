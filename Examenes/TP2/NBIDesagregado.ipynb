{
 "cells": [
  {
   "cell_type": "code",
   "execution_count": 6,
   "id": "0ac57c72",
   "metadata": {},
   "outputs": [],
   "source": [
    "import pandas as pd\n",
    "import geopandas as gpd\n",
    "import matplotlib.pyplot as plt\n",
    "import contextily  as ctx\n",
    "import seaborn as sns\n",
    "import numpy as np"
   ]
  },
  {
   "cell_type": "code",
   "execution_count": 7,
   "id": "bf682f50",
   "metadata": {},
   "outputs": [],
   "source": [
    "\n",
    "prov=pd.read_csv(\"C:/Users/USUARIO/Desktop/Opinion Publica Python/CENSO/prov.csv\")\n",
    "hogar=pd.read_csv(\"C:/Users/USUARIO/Desktop/Opinion Publica Python/CENSO/hogar.csv\")\n",
    "persona=pd.read_csv(\"C:/Users/USUARIO/Desktop/Opinion Publica Python/CENSO/persona.csv\")\n",
    "vivienda=pd.read_csv(\"C:/Users/USUARIO/Desktop/Opinion Publica Python/CENSO/vivienda.csv\")\n"
   ]
  },
  {
   "cell_type": "code",
   "execution_count": null,
   "id": "883e30a7",
   "metadata": {},
   "outputs": [],
   "source": []
  },
  {
   "cell_type": "code",
   "execution_count": 8,
   "id": "1cc83388",
   "metadata": {},
   "outputs": [
    {
     "data": {
      "text/plain": [
       "1659"
      ]
     },
     "execution_count": 8,
     "metadata": {},
     "output_type": "execute_result"
    }
   ],
   "source": [
    "#De vivienda\n",
    "#Edad (P03): cantidad de años cumplidos a la fecha de referencia del Censo. \n",
    "#Filtro 6 a 12\n",
    "#Asiste o asistió a un establecimiento educativo (P08): \n",
    "#Filtro de los 6 a 12 los 2 y 3(respectivamente asistio, nunca asistio)\n",
    "\n",
    "nuevo = persona[persona['P03'].between(6, 12)]\n",
    "nuevo = nuevo[nuevo['P08'].between(2, 3)]\n",
    "\n",
    "#Miro los hogar unicos (Puede que algun hogar tenga mas de un niñx sin escolarizar)\n",
    "hogares_niñxs_sin_escolarizar = nuevo['HOGAR_REF_ID'].nunique()\n",
    "hogares_niñxs_sin_escolarizar"
   ]
  },
  {
   "cell_type": "code",
   "execution_count": 9,
   "id": "38c90b03",
   "metadata": {},
   "outputs": [
    {
     "data": {
      "text/plain": [
       "2465"
      ]
     },
     "execution_count": 9,
     "metadata": {},
     "output_type": "execute_result"
    }
   ],
   "source": [
    "#Algun NBI - H10  No tener baño\n",
    "sin_baño = len(hogar[hogar['H10']==0].value_counts())\n",
    "sin_baño"
   ]
  },
  {
   "cell_type": "code",
   "execution_count": 10,
   "id": "909d50a0",
   "metadata": {},
   "outputs": [
    {
     "data": {
      "text/plain": [
       "17639"
      ]
     },
     "execution_count": 10,
     "metadata": {},
     "output_type": "execute_result"
    }
   ],
   "source": [
    "#AlgunNBI - Hacinamiento\n",
    "\n",
    "#Se considera hacinamiento un valor de 6\n",
    "\n",
    "hacinamiento = len(hogar[hogar['INDHAC']==6].value_counts())\n",
    "hacinamiento"
   ]
  },
  {
   "cell_type": "code",
   "execution_count": 11,
   "id": "ea4581c7",
   "metadata": {},
   "outputs": [
    {
     "data": {
      "text/plain": [
       "41469"
      ]
     },
     "execution_count": 11,
     "metadata": {},
     "output_type": "execute_result"
    }
   ],
   "source": [
    "#(1085463, 13)\n",
    "vivienda=pd.read_csv(\"C:/Users/USUARIO/Desktop/Opinion Publica Python/CENSO/vivienda.csv\")\n",
    "\n",
    "\n",
    "#VO1 - Vivienda de tipo inconveniente. Se excluye a las viviendas tipo casa, departamento y rancho.\n",
    "vivienda_inconveniente = len(vivienda[vivienda['V01']>=5].value_counts()) + len(vivienda[vivienda['V01']==3].value_counts())\n",
    "vivienda_inconveniente"
   ]
  },
  {
   "cell_type": "code",
   "execution_count": 14,
   "id": "8e38bdb8",
   "metadata": {},
   "outputs": [
    {
     "data": {
      "text/plain": [
       "38"
      ]
     },
     "execution_count": 14,
     "metadata": {},
     "output_type": "execute_result"
    }
   ],
   "source": [
    "#nbi. los cuales el jefe de hogar tiene bajo nivel de educación (dos años o menos en el nivel primario\n",
    "#Jefe_bajo_nivel_educativo\n",
    "persona=pd.read_csv(\"C:/Users/USUARIO/Desktop/Opinion Publica Python/CENSO/persona.csv\")\n",
    "ocupados = persona[persona['CONDACT']==1]\n",
    "#upados_bajo_educativo= ocupados[ocupados['P09']==2 and ocupados[ocupados['P09']==1]\n",
    "\n",
    "\n",
    "z =ocupados[ocupados['P09'].between(1, 2)]\n",
    "j= z[z['P10']==2]\n",
    "\n",
    "j= j[['PERSONA_REF_ID','HOGAR_REF_ID','P09', 'P10', 'CONDACT']]\n",
    "\n",
    "\n",
    "\n",
    "#Sumo los ocupados por hogar \n",
    "d= j.groupby(('HOGAR_REF_ID')).CONDACT.sum()\n",
    "d = d.to_frame()\n",
    "\n",
    "e = persona.groupby(('HOGAR_REF_ID')).PERSONA_REF_ID.count()\n",
    "e = e.to_frame()\n",
    "\n",
    "f = d.merge(e, how='inner', on='HOGAR_REF_ID')\n",
    "\n",
    "f['Personas por ocupados por hogar'] = f[\"PERSONA_REF_ID\"]/f['CONDACT']\n",
    "\n",
    "\n",
    "\n",
    "\n",
    "\n",
    "Jefe_bajo_nivel_educativo= len(f[f['Personas por ocupados por hogar']>=4].value_counts()) \n",
    "Jefe_bajo_nivel_educativo"
   ]
  },
  {
   "cell_type": "code",
   "execution_count": 40,
   "id": "4c920112",
   "metadata": {},
   "outputs": [
    {
     "data": {
      "text/plain": [
       "<matplotlib.axes._subplots.AxesSubplot at 0x2188ade4280>"
      ]
     },
     "execution_count": 40,
     "metadata": {},
     "output_type": "execute_result"
    },
    {
     "data": {
      "image/png": "[encoded data removed]",
      "text/plain": [
       "<Figure size 432x288 with 1 Axes>"
      ]
     },
     "metadata": {
      "needs_background": "light"
     },
     "output_type": "display_data"
    }
   ],
   "source": [
    "data = {\"NBI\":[\"VIVIENDA INCONVENIENTE\", \"HACINAMIENTO\",\"HOGARES SIN BAÑO\", \"NIÑXS SIN ESCOLARIZAR\",\"JEFE_BAJO_NIVEL_EDUCATIVO\" ],\n",
    "\n",
    "        \"Personas Afectadas\":[41469,17639,2465,1659,38]}\n",
    "dataFrame = pd.DataFrame(data=data)\n",
    "\n",
    "\n",
    "\n",
    "dataFrame.plot.bar(x=\"NBI\", y=\"Personas Afectadas\", rot=20, title=\"Cantidad de personas afectadas por cada NBI\")\n",
    "\n",
    "\n",
    "\n",
    "\n",
    "\n"
   ]
  },
  {
   "cell_type": "code",
   "execution_count": null,
   "id": "00198778",
   "metadata": {},
   "outputs": [],
   "source": []
  },
  {
   "cell_type": "code",
   "execution_count": null,
   "id": "b5d217b3",
   "metadata": {},
   "outputs": [],
   "source": []
  },
  {
   "cell_type": "code",
   "execution_count": null,
   "id": "e8eee7af",
   "metadata": {},
   "outputs": [],
   "source": []
  },
  {
   "cell_type": "code",
   "execution_count": null,
   "id": "555f4860",
   "metadata": {},
   "outputs": [],
   "source": []
  },
  {
   "cell_type": "code",
   "execution_count": null,
   "id": "5d345aa6",
   "metadata": {},
   "outputs": [],
   "source": []
  },
  {
   "cell_type": "code",
   "execution_count": null,
   "id": "41132dc3",
   "metadata": {},
   "outputs": [],
   "source": []
  },
  {
   "cell_type": "code",
   "execution_count": null,
   "id": "905703a8",
   "metadata": {},
   "outputs": [],
   "source": []
  },
  {
   "cell_type": "code",
   "execution_count": null,
   "id": "e82bc48d",
   "metadata": {},
   "outputs": [],
   "source": []
  },
  {
   "cell_type": "code",
   "execution_count": null,
   "id": "60e864a0",
   "metadata": {},
   "outputs": [],
   "source": []
  }
 ],
 "metadata": {
  "kernelspec": {
   "display_name": "geo_env",
   "language": "python",
   "name": "geo_env"
  },
  "language_info": {
   "codemirror_mode": {
    "name": "ipython",
    "version": 3
   },
   "file_extension": ".py",
   "mimetype": "text/x-python",
   "name": "python",
   "nbconvert_exporter": "python",
   "pygments_lexer": "ipython3",
   "version": "3.9.7"
  }
 },
 "nbformat": 4,
 "nbformat_minor": 5
}
