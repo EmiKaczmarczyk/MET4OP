{
 "cells": [
  {
   "cell_type": "code",
   "execution_count": 1,
   "metadata": {},
   "outputs": [
    {
     "name": "stdout",
     "output_type": "stream",
     "text": [
      "Requirement already satisfied: pandas in c:\\users\\w10\\anaconda3\\lib\\site-packages (1.1.3)\n",
      "Requirement already satisfied: pytz>=2017.2 in c:\\users\\w10\\anaconda3\\lib\\site-packages (from pandas) (2020.1)\n",
      "Requirement already satisfied: numpy>=1.15.4 in c:\\users\\w10\\anaconda3\\lib\\site-packages (from pandas) (1.19.2)\n",
      "Requirement already satisfied: python-dateutil>=2.7.3 in c:\\users\\w10\\anaconda3\\lib\\site-packages (from pandas) (2.8.1)\n",
      "Requirement already satisfied: six>=1.5 in c:\\users\\w10\\anaconda3\\lib\\site-packages (from python-dateutil>=2.7.3->pandas) (1.15.0)\n"
     ]
    }
   ],
   "source": [
    "!pip install pandas"
   ]
  },
  {
   "cell_type": "code",
   "execution_count": 2,
   "metadata": {},
   "outputs": [],
   "source": [
    "import pandas as pd\n",
    "import seaborn as sns\n",
    "import matplotlib.pyplot as plt\n",
    "import numpy as np\n",
    "import plotly as px"
   ]
  },
  {
   "cell_type": "code",
   "execution_count": 3,
   "metadata": {},
   "outputs": [],
   "source": [
    "df = pd.read_csv(\"https://raw.githubusercontent.com/MET4OP-UBA/MET4OP/master/dataset/elecciones_2019/resultados/120819-054029/datos_agrup.csv\")"
   ]
  },
  {
   "cell_type": "code",
   "execution_count": 4,
   "metadata": {},
   "outputs": [
    {
     "data": {
      "text/html": [
       "<div>\n",
       "<style scoped>\n",
       "    .dataframe tbody tr th:only-of-type {\n",
       "        vertical-align: middle;\n",
       "    }\n",
       "\n",
       "    .dataframe tbody tr th {\n",
       "        vertical-align: top;\n",
       "    }\n",
       "\n",
       "    .dataframe thead th {\n",
       "        text-align: right;\n",
       "    }\n",
       "</style>\n",
       "<table border=\"1\" class=\"dataframe\">\n",
       "  <thead>\n",
       "    <tr style=\"text-align: right;\">\n",
       "      <th></th>\n",
       "      <th>CODIGO_DISTRITO</th>\n",
       "      <th>CODIGO_SECCION</th>\n",
       "      <th>CODIGO_CIRCUITO</th>\n",
       "      <th>CODIGO_MESA</th>\n",
       "      <th>CODIGO_CATEGORIA</th>\n",
       "      <th>CODIGO_AGRUPACION</th>\n",
       "      <th>VOTOS_AGRUPACION</th>\n",
       "      <th>NOMBRE_CATEGORIA</th>\n",
       "      <th>NOMBRE_REGION</th>\n",
       "      <th>NOMBRE_AGRUPACION</th>\n",
       "    </tr>\n",
       "  </thead>\n",
       "  <tbody>\n",
       "    <tr>\n",
       "      <th>0</th>\n",
       "      <td>1</td>\n",
       "      <td>1001</td>\n",
       "      <td>1001000001</td>\n",
       "      <td>0100100001X</td>\n",
       "      <td>100000000000</td>\n",
       "      <td>13</td>\n",
       "      <td>1</td>\n",
       "      <td>Presidente y Vicepresidente de la República</td>\n",
       "      <td>COMUNA 01</td>\n",
       "      <td>MOVIMIENTO AL SOCIALISMO</td>\n",
       "    </tr>\n",
       "    <tr>\n",
       "      <th>1</th>\n",
       "      <td>1</td>\n",
       "      <td>1001</td>\n",
       "      <td>1001000001</td>\n",
       "      <td>0100100001X</td>\n",
       "      <td>100000000000</td>\n",
       "      <td>131</td>\n",
       "      <td>5</td>\n",
       "      <td>Presidente y Vicepresidente de la República</td>\n",
       "      <td>COMUNA 01</td>\n",
       "      <td>FRENTE NOS</td>\n",
       "    </tr>\n",
       "    <tr>\n",
       "      <th>2</th>\n",
       "      <td>1</td>\n",
       "      <td>1001</td>\n",
       "      <td>1001000001</td>\n",
       "      <td>0100100001X</td>\n",
       "      <td>100000000000</td>\n",
       "      <td>132</td>\n",
       "      <td>2</td>\n",
       "      <td>Presidente y Vicepresidente de la República</td>\n",
       "      <td>COMUNA 01</td>\n",
       "      <td>FRENTE PATRIOTA</td>\n",
       "    </tr>\n",
       "    <tr>\n",
       "      <th>3</th>\n",
       "      <td>1</td>\n",
       "      <td>1001</td>\n",
       "      <td>1001000001</td>\n",
       "      <td>0100100001X</td>\n",
       "      <td>100000000000</td>\n",
       "      <td>133</td>\n",
       "      <td>15</td>\n",
       "      <td>Presidente y Vicepresidente de la República</td>\n",
       "      <td>COMUNA 01</td>\n",
       "      <td>FRENTE DE IZQUIERDA Y DE TRABAJADORES - UNIDAD</td>\n",
       "    </tr>\n",
       "    <tr>\n",
       "      <th>4</th>\n",
       "      <td>1</td>\n",
       "      <td>1001</td>\n",
       "      <td>1001000001</td>\n",
       "      <td>0100100001X</td>\n",
       "      <td>100000000000</td>\n",
       "      <td>135</td>\n",
       "      <td>85</td>\n",
       "      <td>Presidente y Vicepresidente de la República</td>\n",
       "      <td>COMUNA 01</td>\n",
       "      <td>JUNTOS POR EL CAMBIO</td>\n",
       "    </tr>\n",
       "  </tbody>\n",
       "</table>\n",
       "</div>"
      ],
      "text/plain": [
       "   CODIGO_DISTRITO  CODIGO_SECCION  CODIGO_CIRCUITO  CODIGO_MESA  \\\n",
       "0                1            1001       1001000001  0100100001X   \n",
       "1                1            1001       1001000001  0100100001X   \n",
       "2                1            1001       1001000001  0100100001X   \n",
       "3                1            1001       1001000001  0100100001X   \n",
       "4                1            1001       1001000001  0100100001X   \n",
       "\n",
       "   CODIGO_CATEGORIA CODIGO_AGRUPACION  VOTOS_AGRUPACION  \\\n",
       "0      100000000000                13                 1   \n",
       "1      100000000000               131                 5   \n",
       "2      100000000000               132                 2   \n",
       "3      100000000000               133                15   \n",
       "4      100000000000               135                85   \n",
       "\n",
       "                              NOMBRE_CATEGORIA NOMBRE_REGION  \\\n",
       "0  Presidente y Vicepresidente de la República     COMUNA 01   \n",
       "1  Presidente y Vicepresidente de la República     COMUNA 01   \n",
       "2  Presidente y Vicepresidente de la República     COMUNA 01   \n",
       "3  Presidente y Vicepresidente de la República     COMUNA 01   \n",
       "4  Presidente y Vicepresidente de la República     COMUNA 01   \n",
       "\n",
       "                                NOMBRE_AGRUPACION  \n",
       "0                        MOVIMIENTO AL SOCIALISMO  \n",
       "1                                      FRENTE NOS  \n",
       "2                                 FRENTE PATRIOTA  \n",
       "3  FRENTE DE IZQUIERDA Y DE TRABAJADORES - UNIDAD  \n",
       "4                            JUNTOS POR EL CAMBIO  "
      ]
     },
     "execution_count": 4,
     "metadata": {},
     "output_type": "execute_result"
    }
   ],
   "source": [
    "df.head()"
   ]
  },
  {
   "cell_type": "code",
   "execution_count": 5,
   "metadata": {},
   "outputs": [],
   "source": [
    "#Dataframe con datos presidenciales\n",
    "df_presidencial= df.loc[df.NOMBRE_CATEGORIA == \"Presidente y Vicepresidente de la República\"]"
   ]
  },
  {
   "cell_type": "code",
   "execution_count": 6,
   "metadata": {},
   "outputs": [
    {
     "data": {
      "text/html": [
       "<div>\n",
       "<style scoped>\n",
       "    .dataframe tbody tr th:only-of-type {\n",
       "        vertical-align: middle;\n",
       "    }\n",
       "\n",
       "    .dataframe tbody tr th {\n",
       "        vertical-align: top;\n",
       "    }\n",
       "\n",
       "    .dataframe thead th {\n",
       "        text-align: right;\n",
       "    }\n",
       "</style>\n",
       "<table border=\"1\" class=\"dataframe\">\n",
       "  <thead>\n",
       "    <tr style=\"text-align: right;\">\n",
       "      <th></th>\n",
       "      <th>NOMBRE_AGRUPACION</th>\n",
       "      <th>VOTOS_AGRUPACION</th>\n",
       "    </tr>\n",
       "  </thead>\n",
       "  <tbody>\n",
       "    <tr>\n",
       "      <th>7</th>\n",
       "      <td>JUNTOS POR EL CAMBIO</td>\n",
       "      <td>863169</td>\n",
       "    </tr>\n",
       "    <tr>\n",
       "      <th>3</th>\n",
       "      <td>FRENTE DE TODOS</td>\n",
       "      <td>637891</td>\n",
       "    </tr>\n",
       "    <tr>\n",
       "      <th>1</th>\n",
       "      <td>CONSENSO FEDERAL</td>\n",
       "      <td>168607</td>\n",
       "    </tr>\n",
       "    <tr>\n",
       "      <th>2</th>\n",
       "      <td>FRENTE DE IZQUIERDA Y DE TRABAJADORES - UNIDAD</td>\n",
       "      <td>75746</td>\n",
       "    </tr>\n",
       "    <tr>\n",
       "      <th>13</th>\n",
       "      <td>UNITE POR LA LIBERTAD Y LA DIGNIDAD</td>\n",
       "      <td>68828</td>\n",
       "    </tr>\n",
       "    <tr>\n",
       "      <th>0</th>\n",
       "      <td>BLANCO</td>\n",
       "      <td>62397</td>\n",
       "    </tr>\n",
       "    <tr>\n",
       "      <th>4</th>\n",
       "      <td>FRENTE NOS</td>\n",
       "      <td>22592</td>\n",
       "    </tr>\n",
       "    <tr>\n",
       "      <th>8</th>\n",
       "      <td>MOVIMIENTO AL SOCIALISMO</td>\n",
       "      <td>21470</td>\n",
       "    </tr>\n",
       "    <tr>\n",
       "      <th>10</th>\n",
       "      <td>NULO</td>\n",
       "      <td>19116</td>\n",
       "    </tr>\n",
       "    <tr>\n",
       "      <th>5</th>\n",
       "      <td>FRENTE PATRIOTA</td>\n",
       "      <td>5172</td>\n",
       "    </tr>\n",
       "    <tr>\n",
       "      <th>9</th>\n",
       "      <td>MOVIMIENTO DE ACCION VECINAL</td>\n",
       "      <td>2406</td>\n",
       "    </tr>\n",
       "    <tr>\n",
       "      <th>11</th>\n",
       "      <td>PARTIDO AUTONOMISTA</td>\n",
       "      <td>2126</td>\n",
       "    </tr>\n",
       "    <tr>\n",
       "      <th>12</th>\n",
       "      <td>RECURRIDO</td>\n",
       "      <td>644</td>\n",
       "    </tr>\n",
       "    <tr>\n",
       "      <th>6</th>\n",
       "      <td>IMPUGNADO</td>\n",
       "      <td>383</td>\n",
       "    </tr>\n",
       "  </tbody>\n",
       "</table>\n",
       "</div>"
      ],
      "text/plain": [
       "                                 NOMBRE_AGRUPACION  VOTOS_AGRUPACION\n",
       "7                             JUNTOS POR EL CAMBIO            863169\n",
       "3                                  FRENTE DE TODOS            637891\n",
       "1                                 CONSENSO FEDERAL            168607\n",
       "2   FRENTE DE IZQUIERDA Y DE TRABAJADORES - UNIDAD             75746\n",
       "13             UNITE POR LA LIBERTAD Y LA DIGNIDAD             68828\n",
       "0                                           BLANCO             62397\n",
       "4                                       FRENTE NOS             22592\n",
       "8                         MOVIMIENTO AL SOCIALISMO             21470\n",
       "10                                            NULO             19116\n",
       "5                                  FRENTE PATRIOTA              5172\n",
       "9                     MOVIMIENTO DE ACCION VECINAL              2406\n",
       "11                             PARTIDO AUTONOMISTA              2126\n",
       "12                                       RECURRIDO               644\n",
       "6                                        IMPUGNADO               383"
      ]
     },
     "execution_count": 6,
     "metadata": {},
     "output_type": "execute_result"
    }
   ],
   "source": [
    "#Obtenemos votos totales de cada partido\n",
    "total=df_presidencial.groupby(\"NOMBRE_AGRUPACION\", as_index=False)[\"VOTOS_AGRUPACION\"].sum().sort_values(\"VOTOS_AGRUPACION\", ascending=False)\n",
    "total"
   ]
  },
  {
   "cell_type": "code",
   "execution_count": 7,
   "metadata": {},
   "outputs": [
    {
     "data": {
      "text/plain": [
       "Text(0, 0.5, 'Partido Politico')"
      ]
     },
     "execution_count": 7,
     "metadata": {},
     "output_type": "execute_result"
    },
    {
     "data": {
      "image/png": "[encoded data removed]",
      "text/plain": [
       "<Figure size 1440x720 with 1 Axes>"
      ]
     },
     "metadata": {
      "needs_background": "light"
     },
     "output_type": "display_data"
    }
   ],
   "source": [
    "plt.figure(figsize=(20,10))\n",
    "figura1=sns.barplot(data=total, y=\"NOMBRE_AGRUPACION\", x=\"VOTOS_AGRUPACION\", palette=[\"#FFD523\",\"#3DB2FF\",\"#49FF00\", \"red\",\"#69DADB\", \"black\",\"#39A2DB\", \"#125D98\", \"black\"])\n",
    "sns.set_style('darkgrid')\n",
    "figura1.set_xlabel('Cantidad de votos')\n",
    "figura1.set_ylabel('Partido Politico')"
   ]
  },
  {
   "cell_type": "code",
   "execution_count": null,
   "metadata": {},
   "outputs": [],
   "source": []
  }
 ],
 "metadata": {
  "kernelspec": {
   "display_name": "Python 3",
   "language": "python",
   "name": "python3"
  },
  "language_info": {
   "codemirror_mode": {
    "name": "ipython",
    "version": 3
   },
   "file_extension": ".py",
   "mimetype": "text/x-python",
   "name": "python",
   "nbconvert_exporter": "python",
   "pygments_lexer": "ipython3",
   "version": "3.8.5"
  }
 },
 "nbformat": 4,
 "nbformat_minor": 4
}
