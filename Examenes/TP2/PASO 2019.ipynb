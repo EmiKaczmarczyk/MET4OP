{
 "cells": [
  {
   "cell_type": "code",
   "execution_count": 40,
   "metadata": {},
   "outputs": [
    {
     "name": "stdout",
     "output_type": "stream",
     "text": [
      "Requirement already satisfied: matplotlib in c:\\users\\w10\\anaconda3\\lib\\site-packages (3.2.2)\n",
      "Requirement already satisfied: numpy>=1.11 in c:\\users\\w10\\anaconda3\\lib\\site-packages (from matplotlib) (1.19.2)\n",
      "Requirement already satisfied: kiwisolver>=1.0.1 in c:\\users\\w10\\anaconda3\\lib\\site-packages (from matplotlib) (1.3.0)\n",
      "Requirement already satisfied: pyparsing!=2.0.4,!=2.1.2,!=2.1.6,>=2.0.1 in c:\\users\\w10\\anaconda3\\lib\\site-packages (from matplotlib) (2.4.7)\n",
      "Requirement already satisfied: cycler>=0.10 in c:\\users\\w10\\anaconda3\\lib\\site-packages (from matplotlib) (0.10.0)\n",
      "Requirement already satisfied: python-dateutil>=2.1 in c:\\users\\w10\\anaconda3\\lib\\site-packages (from matplotlib) (2.8.1)\n",
      "Requirement already satisfied: six in c:\\users\\w10\\anaconda3\\lib\\site-packages (from cycler>=0.10->matplotlib) (1.15.0)\n"
     ]
    }
   ],
   "source": [
    "!pip install matplotlib"
   ]
  },
  {
   "cell_type": "code",
   "execution_count": 45,
   "metadata": {},
   "outputs": [],
   "source": [
    "import pandas as pd\n",
    "import seaborn as sns\n",
    "import matplotlib.pyplot as plt\n",
    "import numpy as np\n",
    "import plotly as px"
   ]
  },
  {
   "cell_type": "code",
   "execution_count": 2,
   "metadata": {},
   "outputs": [],
   "source": [
    "df = pd.read_csv(\"https://raw.githubusercontent.com/MET4OP-UBA/MET4OP/master/dataset/elecciones_2019/resultados/120819-054029/datos_agrup.csv\")"
   ]
  },
  {
   "cell_type": "code",
   "execution_count": 3,
   "metadata": {
    "collapsed": true
   },
   "outputs": [
    {
     "data": {
      "text/html": [
       "<div>\n",
       "<style scoped>\n",
       "    .dataframe tbody tr th:only-of-type {\n",
       "        vertical-align: middle;\n",
       "    }\n",
       "\n",
       "    .dataframe tbody tr th {\n",
       "        vertical-align: top;\n",
       "    }\n",
       "\n",
       "    .dataframe thead th {\n",
       "        text-align: right;\n",
       "    }\n",
       "</style>\n",
       "<table border=\"1\" class=\"dataframe\">\n",
       "  <thead>\n",
       "    <tr style=\"text-align: right;\">\n",
       "      <th></th>\n",
       "      <th>CODIGO_DISTRITO</th>\n",
       "      <th>CODIGO_SECCION</th>\n",
       "      <th>CODIGO_CIRCUITO</th>\n",
       "      <th>CODIGO_MESA</th>\n",
       "      <th>CODIGO_CATEGORIA</th>\n",
       "      <th>CODIGO_AGRUPACION</th>\n",
       "      <th>VOTOS_AGRUPACION</th>\n",
       "      <th>NOMBRE_CATEGORIA</th>\n",
       "      <th>NOMBRE_REGION</th>\n",
       "      <th>NOMBRE_AGRUPACION</th>\n",
       "    </tr>\n",
       "  </thead>\n",
       "  <tbody>\n",
       "    <tr>\n",
       "      <th>0</th>\n",
       "      <td>1</td>\n",
       "      <td>1001</td>\n",
       "      <td>1001000001</td>\n",
       "      <td>0100100001X</td>\n",
       "      <td>100000000000</td>\n",
       "      <td>13</td>\n",
       "      <td>1</td>\n",
       "      <td>Presidente y Vicepresidente de la República</td>\n",
       "      <td>COMUNA 01</td>\n",
       "      <td>MOVIMIENTO AL SOCIALISMO</td>\n",
       "    </tr>\n",
       "    <tr>\n",
       "      <th>1</th>\n",
       "      <td>1</td>\n",
       "      <td>1001</td>\n",
       "      <td>1001000001</td>\n",
       "      <td>0100100001X</td>\n",
       "      <td>100000000000</td>\n",
       "      <td>131</td>\n",
       "      <td>5</td>\n",
       "      <td>Presidente y Vicepresidente de la República</td>\n",
       "      <td>COMUNA 01</td>\n",
       "      <td>FRENTE NOS</td>\n",
       "    </tr>\n",
       "    <tr>\n",
       "      <th>2</th>\n",
       "      <td>1</td>\n",
       "      <td>1001</td>\n",
       "      <td>1001000001</td>\n",
       "      <td>0100100001X</td>\n",
       "      <td>100000000000</td>\n",
       "      <td>132</td>\n",
       "      <td>2</td>\n",
       "      <td>Presidente y Vicepresidente de la República</td>\n",
       "      <td>COMUNA 01</td>\n",
       "      <td>FRENTE PATRIOTA</td>\n",
       "    </tr>\n",
       "    <tr>\n",
       "      <th>3</th>\n",
       "      <td>1</td>\n",
       "      <td>1001</td>\n",
       "      <td>1001000001</td>\n",
       "      <td>0100100001X</td>\n",
       "      <td>100000000000</td>\n",
       "      <td>133</td>\n",
       "      <td>15</td>\n",
       "      <td>Presidente y Vicepresidente de la República</td>\n",
       "      <td>COMUNA 01</td>\n",
       "      <td>FRENTE DE IZQUIERDA Y DE TRABAJADORES - UNIDAD</td>\n",
       "    </tr>\n",
       "    <tr>\n",
       "      <th>4</th>\n",
       "      <td>1</td>\n",
       "      <td>1001</td>\n",
       "      <td>1001000001</td>\n",
       "      <td>0100100001X</td>\n",
       "      <td>100000000000</td>\n",
       "      <td>135</td>\n",
       "      <td>85</td>\n",
       "      <td>Presidente y Vicepresidente de la República</td>\n",
       "      <td>COMUNA 01</td>\n",
       "      <td>JUNTOS POR EL CAMBIO</td>\n",
       "    </tr>\n",
       "  </tbody>\n",
       "</table>\n",
       "</div>"
      ],
      "text/plain": [
       "   CODIGO_DISTRITO  CODIGO_SECCION  CODIGO_CIRCUITO  CODIGO_MESA  \\\n",
       "0                1            1001       1001000001  0100100001X   \n",
       "1                1            1001       1001000001  0100100001X   \n",
       "2                1            1001       1001000001  0100100001X   \n",
       "3                1            1001       1001000001  0100100001X   \n",
       "4                1            1001       1001000001  0100100001X   \n",
       "\n",
       "   CODIGO_CATEGORIA CODIGO_AGRUPACION  VOTOS_AGRUPACION  \\\n",
       "0      100000000000                13                 1   \n",
       "1      100000000000               131                 5   \n",
       "2      100000000000               132                 2   \n",
       "3      100000000000               133                15   \n",
       "4      100000000000               135                85   \n",
       "\n",
       "                              NOMBRE_CATEGORIA NOMBRE_REGION  \\\n",
       "0  Presidente y Vicepresidente de la República     COMUNA 01   \n",
       "1  Presidente y Vicepresidente de la República     COMUNA 01   \n",
       "2  Presidente y Vicepresidente de la República     COMUNA 01   \n",
       "3  Presidente y Vicepresidente de la República     COMUNA 01   \n",
       "4  Presidente y Vicepresidente de la República     COMUNA 01   \n",
       "\n",
       "                                NOMBRE_AGRUPACION  \n",
       "0                        MOVIMIENTO AL SOCIALISMO  \n",
       "1                                      FRENTE NOS  \n",
       "2                                 FRENTE PATRIOTA  \n",
       "3  FRENTE DE IZQUIERDA Y DE TRABAJADORES - UNIDAD  \n",
       "4                            JUNTOS POR EL CAMBIO  "
      ]
     },
     "execution_count": 3,
     "metadata": {},
     "output_type": "execute_result"
    }
   ],
   "source": [
    "#Eliminar esta celda una vez terminado el trabajo\n",
    "df.head()"
   ]
  },
  {
   "cell_type": "markdown",
   "metadata": {},
   "source": [
    "### INTRODUCCIÓN\n",
    "\n",
    "Este informe analizará los resultados de las elecciones PASO del 2019 correspondiente al desempeño de la fórmula presidencial en la Ciudad Autónoma de Buenos Aires."
   ]
  },
  {
   "cell_type": "code",
   "execution_count": 4,
   "metadata": {},
   "outputs": [],
   "source": [
    "#Dataframe con datos presidenciales\n",
    "df_presidencial= df.loc[df.NOMBRE_CATEGORIA == \"Presidente y Vicepresidente de la República\"]"
   ]
  },
  {
   "cell_type": "markdown",
   "metadata": {},
   "source": [
    "### Resultados totales\n",
    "\n",
    "Nos da un primer panorama general de la posición de la fórmula en CABA.\n",
    "\n",
    "- En primer lugar, podemos ver que está consolidado como segunda fuerza debido a la cómoda diferencia respecto a Consenso Federal que obtiene el tercer lugar.\n",
    "- La diferencia con Juntos por el Cambio?\n",
    "- Analizar porcentajes a sacar y migracion de votos de los que no alcanzaron el 1,5%."
   ]
  },
  {
   "cell_type": "code",
   "execution_count": 5,
   "metadata": {},
   "outputs": [
    {
     "data": {
      "text/html": [
       "<div>\n",
       "<style scoped>\n",
       "    .dataframe tbody tr th:only-of-type {\n",
       "        vertical-align: middle;\n",
       "    }\n",
       "\n",
       "    .dataframe tbody tr th {\n",
       "        vertical-align: top;\n",
       "    }\n",
       "\n",
       "    .dataframe thead th {\n",
       "        text-align: right;\n",
       "    }\n",
       "</style>\n",
       "<table border=\"1\" class=\"dataframe\">\n",
       "  <thead>\n",
       "    <tr style=\"text-align: right;\">\n",
       "      <th></th>\n",
       "      <th>NOMBRE_AGRUPACION</th>\n",
       "      <th>VOTOS_AGRUPACION</th>\n",
       "    </tr>\n",
       "  </thead>\n",
       "  <tbody>\n",
       "    <tr>\n",
       "      <th>7</th>\n",
       "      <td>JUNTOS POR EL CAMBIO</td>\n",
       "      <td>863169</td>\n",
       "    </tr>\n",
       "    <tr>\n",
       "      <th>3</th>\n",
       "      <td>FRENTE DE TODOS</td>\n",
       "      <td>637891</td>\n",
       "    </tr>\n",
       "    <tr>\n",
       "      <th>1</th>\n",
       "      <td>CONSENSO FEDERAL</td>\n",
       "      <td>168607</td>\n",
       "    </tr>\n",
       "    <tr>\n",
       "      <th>2</th>\n",
       "      <td>FRENTE DE IZQUIERDA Y DE TRABAJADORES - UNIDAD</td>\n",
       "      <td>75746</td>\n",
       "    </tr>\n",
       "    <tr>\n",
       "      <th>13</th>\n",
       "      <td>UNITE POR LA LIBERTAD Y LA DIGNIDAD</td>\n",
       "      <td>68828</td>\n",
       "    </tr>\n",
       "    <tr>\n",
       "      <th>0</th>\n",
       "      <td>BLANCO</td>\n",
       "      <td>62397</td>\n",
       "    </tr>\n",
       "    <tr>\n",
       "      <th>4</th>\n",
       "      <td>FRENTE NOS</td>\n",
       "      <td>22592</td>\n",
       "    </tr>\n",
       "    <tr>\n",
       "      <th>8</th>\n",
       "      <td>MOVIMIENTO AL SOCIALISMO</td>\n",
       "      <td>21470</td>\n",
       "    </tr>\n",
       "    <tr>\n",
       "      <th>10</th>\n",
       "      <td>NULO</td>\n",
       "      <td>19116</td>\n",
       "    </tr>\n",
       "    <tr>\n",
       "      <th>5</th>\n",
       "      <td>FRENTE PATRIOTA</td>\n",
       "      <td>5172</td>\n",
       "    </tr>\n",
       "    <tr>\n",
       "      <th>9</th>\n",
       "      <td>MOVIMIENTO DE ACCION VECINAL</td>\n",
       "      <td>2406</td>\n",
       "    </tr>\n",
       "    <tr>\n",
       "      <th>11</th>\n",
       "      <td>PARTIDO AUTONOMISTA</td>\n",
       "      <td>2126</td>\n",
       "    </tr>\n",
       "    <tr>\n",
       "      <th>12</th>\n",
       "      <td>RECURRIDO</td>\n",
       "      <td>644</td>\n",
       "    </tr>\n",
       "    <tr>\n",
       "      <th>6</th>\n",
       "      <td>IMPUGNADO</td>\n",
       "      <td>383</td>\n",
       "    </tr>\n",
       "  </tbody>\n",
       "</table>\n",
       "</div>"
      ],
      "text/plain": [
       "                                 NOMBRE_AGRUPACION  VOTOS_AGRUPACION\n",
       "7                             JUNTOS POR EL CAMBIO            863169\n",
       "3                                  FRENTE DE TODOS            637891\n",
       "1                                 CONSENSO FEDERAL            168607\n",
       "2   FRENTE DE IZQUIERDA Y DE TRABAJADORES - UNIDAD             75746\n",
       "13             UNITE POR LA LIBERTAD Y LA DIGNIDAD             68828\n",
       "0                                           BLANCO             62397\n",
       "4                                       FRENTE NOS             22592\n",
       "8                         MOVIMIENTO AL SOCIALISMO             21470\n",
       "10                                            NULO             19116\n",
       "5                                  FRENTE PATRIOTA              5172\n",
       "9                     MOVIMIENTO DE ACCION VECINAL              2406\n",
       "11                             PARTIDO AUTONOMISTA              2126\n",
       "12                                       RECURRIDO               644\n",
       "6                                        IMPUGNADO               383"
      ]
     },
     "execution_count": 5,
     "metadata": {},
     "output_type": "execute_result"
    }
   ],
   "source": [
    "total=df_presidencial.groupby(\"NOMBRE_AGRUPACION\", as_index=False)[\"VOTOS_AGRUPACION\"].sum().sort_values(\"VOTOS_AGRUPACION\", ascending=False)\n",
    "total"
   ]
  },
  {
   "cell_type": "markdown",
   "metadata": {},
   "source": [
    "## Visualización de resultado total"
   ]
  },
  {
   "cell_type": "code",
   "execution_count": 6,
   "metadata": {},
   "outputs": [
    {
     "data": {
      "text/plain": [
       "Text(0, 0.5, 'Partido Politico')"
      ]
     },
     "execution_count": 6,
     "metadata": {},
     "output_type": "execute_result"
    },
    {
     "data": {
      "image/png": "[encoded data removed]",
      "text/plain": [
       "<Figure size 1440x720 with 1 Axes>"
      ]
     },
     "metadata": {
      "needs_background": "light"
     },
     "output_type": "display_data"
    }
   ],
   "source": [
    "plt.figure(figsize=(20,10))\n",
    "figura1=sns.barplot(data=total, y=\"NOMBRE_AGRUPACION\", x=\"VOTOS_AGRUPACION\", palette=[\"#FFD523\",\"#3DB2FF\",\"#49FF00\", \"red\",\"#69DADB\", \"black\",\"#39A2DB\", \"#125D98\", \"black\"])\n",
    "sns.set_style('darkgrid')\n",
    "figura1.set_xlabel('Cantidad de votos')\n",
    "figura1.set_ylabel('Partido Politico')"
   ]
  },
  {
   "cell_type": "markdown",
   "metadata": {},
   "source": [
    "## Análisis por comuna\n",
    "\n",
    "- Es pertinente profundizar el desempeño en cada comuna, para identificar aquellas en las que el FdT ganó, pero también para poder ssaberen cuál se debe intensificar el trabajo. "
   ]
  },
  {
   "cell_type": "code",
   "execution_count": 10,
   "metadata": {
    "collapsed": true
   },
   "outputs": [
    {
     "data": {
      "text/html": [
       "<div>\n",
       "<style scoped>\n",
       "    .dataframe tbody tr th:only-of-type {\n",
       "        vertical-align: middle;\n",
       "    }\n",
       "\n",
       "    .dataframe tbody tr th {\n",
       "        vertical-align: top;\n",
       "    }\n",
       "\n",
       "    .dataframe thead th {\n",
       "        text-align: right;\n",
       "    }\n",
       "</style>\n",
       "<table border=\"1\" class=\"dataframe\">\n",
       "  <thead>\n",
       "    <tr style=\"text-align: right;\">\n",
       "      <th></th>\n",
       "      <th>NOMBRE_REGION</th>\n",
       "      <th>NOMBRE_AGRUPACION</th>\n",
       "      <th>VOTOS_AGRUPACION</th>\n",
       "    </tr>\n",
       "  </thead>\n",
       "  <tbody>\n",
       "    <tr>\n",
       "      <th>0</th>\n",
       "      <td>COMUNA 01</td>\n",
       "      <td>BLANCO</td>\n",
       "      <td>3674</td>\n",
       "    </tr>\n",
       "    <tr>\n",
       "      <th>1</th>\n",
       "      <td>COMUNA 01</td>\n",
       "      <td>CONSENSO FEDERAL</td>\n",
       "      <td>8305</td>\n",
       "    </tr>\n",
       "    <tr>\n",
       "      <th>2</th>\n",
       "      <td>COMUNA 01</td>\n",
       "      <td>FIT</td>\n",
       "      <td>4368</td>\n",
       "    </tr>\n",
       "    <tr>\n",
       "      <th>3</th>\n",
       "      <td>COMUNA 01</td>\n",
       "      <td>FdT</td>\n",
       "      <td>42299</td>\n",
       "    </tr>\n",
       "    <tr>\n",
       "      <th>4</th>\n",
       "      <td>COMUNA 01</td>\n",
       "      <td>NOS</td>\n",
       "      <td>1763</td>\n",
       "    </tr>\n",
       "    <tr>\n",
       "      <th>...</th>\n",
       "      <td>...</td>\n",
       "      <td>...</td>\n",
       "      <td>...</td>\n",
       "    </tr>\n",
       "    <tr>\n",
       "      <th>205</th>\n",
       "      <td>COMUNA 15</td>\n",
       "      <td>MOVIMIENTO DE ACCION VECINAL</td>\n",
       "      <td>159</td>\n",
       "    </tr>\n",
       "    <tr>\n",
       "      <th>206</th>\n",
       "      <td>COMUNA 15</td>\n",
       "      <td>NULO</td>\n",
       "      <td>1358</td>\n",
       "    </tr>\n",
       "    <tr>\n",
       "      <th>207</th>\n",
       "      <td>COMUNA 15</td>\n",
       "      <td>PARTIDO AUTONOMISTA</td>\n",
       "      <td>125</td>\n",
       "    </tr>\n",
       "    <tr>\n",
       "      <th>208</th>\n",
       "      <td>COMUNA 15</td>\n",
       "      <td>RECURRIDO</td>\n",
       "      <td>61</td>\n",
       "    </tr>\n",
       "    <tr>\n",
       "      <th>209</th>\n",
       "      <td>COMUNA 15</td>\n",
       "      <td>UNITE</td>\n",
       "      <td>4203</td>\n",
       "    </tr>\n",
       "  </tbody>\n",
       "</table>\n",
       "<p>210 rows × 3 columns</p>\n",
       "</div>"
      ],
      "text/plain": [
       "    NOMBRE_REGION             NOMBRE_AGRUPACION  VOTOS_AGRUPACION\n",
       "0       COMUNA 01                        BLANCO              3674\n",
       "1       COMUNA 01              CONSENSO FEDERAL              8305\n",
       "2       COMUNA 01                           FIT              4368\n",
       "3       COMUNA 01                           FdT             42299\n",
       "4       COMUNA 01                           NOS              1763\n",
       "..            ...                           ...               ...\n",
       "205     COMUNA 15  MOVIMIENTO DE ACCION VECINAL               159\n",
       "206     COMUNA 15                          NULO              1358\n",
       "207     COMUNA 15           PARTIDO AUTONOMISTA               125\n",
       "208     COMUNA 15                     RECURRIDO                61\n",
       "209     COMUNA 15                         UNITE              4203\n",
       "\n",
       "[210 rows x 3 columns]"
      ]
     },
     "execution_count": 10,
     "metadata": {},
     "output_type": "execute_result"
    }
   ],
   "source": [
    "#Agrupamos por comunas\n",
    "df_comuna=df_presidencial.groupby([\"NOMBRE_REGION\", \"NOMBRE_AGRUPACION\"], as_index=False)[\"VOTOS_AGRUPACION\"].sum()\n",
    "\n",
    "#Abreviamos algunos nombres por prolijidad.\n",
    "cambio_nombres=df_comuna.replace({\"FRENTE DE TODOS\": \"FdT\",\n",
    "                                           \"FRENTE DE IZQUIERDA Y DE TRABAJADORES - UNIDAD\": \"FIT\",\n",
    "                                           \"JUNTOS POR EL CAMBIO\": \"JxC\",\n",
    "                                           \"FRENTE NOS\":\"NOS\",\n",
    "                                          \"UNITE POR LA LIBERTAD Y LA DIGNIDAD\":\"UNITE\"})\n",
    "comuna_final=pd.DataFrame(data=cambio_nombres) \n",
    "comuna_final"
   ]
  },
  {
   "cell_type": "markdown",
   "metadata": {},
   "source": [
    "### En primer lugar, vemos el desempeño del Frente de Todos en términos absolutos. "
   ]
  },
  {
   "cell_type": "code",
   "execution_count": 14,
   "metadata": {},
   "outputs": [
    {
     "data": {
      "image/png": "[encoded data removed]",
      "text/plain": [
       "<Figure size 1440x720 with 1 Axes>"
      ]
     },
     "metadata": {},
     "output_type": "display_data"
    }
   ],
   "source": [
    "resultados_absolutos=comuna_final.loc[comuna_final.NOMBRE_AGRUPACION == \"FdT\"].sort_values(by=\"VOTOS_AGRUPACION\", ascending=False)\n",
    "\n",
    "#Grafico. Cambiar nombres de ejes.\n",
    "plt.figure(figsize=(20,10))\n",
    "sns.barplot(data=resultados_absolutos,x=\"NOMBRE_REGION\", y=\"VOTOS_AGRUPACION\", palette=\"crest\")\n",
    "plt.show()"
   ]
  },
  {
   "cell_type": "markdown",
   "metadata": {},
   "source": [
    "### Desempeño comparado con Consenso y JxC"
   ]
  },
  {
   "cell_type": "code",
   "execution_count": 34,
   "metadata": {
    "collapsed": true
   },
   "outputs": [
    {
     "data": {
      "text/html": [
       "<div>\n",
       "<style scoped>\n",
       "    .dataframe tbody tr th:only-of-type {\n",
       "        vertical-align: middle;\n",
       "    }\n",
       "\n",
       "    .dataframe tbody tr th {\n",
       "        vertical-align: top;\n",
       "    }\n",
       "\n",
       "    .dataframe thead th {\n",
       "        text-align: right;\n",
       "    }\n",
       "</style>\n",
       "<table border=\"1\" class=\"dataframe\">\n",
       "  <thead>\n",
       "    <tr style=\"text-align: right;\">\n",
       "      <th></th>\n",
       "      <th>NOMBRE_REGION</th>\n",
       "      <th>NOMBRE_AGRUPACION</th>\n",
       "      <th>VOTOS_AGRUPACION</th>\n",
       "    </tr>\n",
       "  </thead>\n",
       "  <tbody>\n",
       "    <tr>\n",
       "      <th>1</th>\n",
       "      <td>COMUNA 01</td>\n",
       "      <td>CONSENSO FEDERAL</td>\n",
       "      <td>8305</td>\n",
       "    </tr>\n",
       "    <tr>\n",
       "      <th>3</th>\n",
       "      <td>COMUNA 01</td>\n",
       "      <td>FdT</td>\n",
       "      <td>42299</td>\n",
       "    </tr>\n",
       "    <tr>\n",
       "      <th>7</th>\n",
       "      <td>COMUNA 01</td>\n",
       "      <td>JxC</td>\n",
       "      <td>54568</td>\n",
       "    </tr>\n",
       "    <tr>\n",
       "      <th>15</th>\n",
       "      <td>COMUNA 02</td>\n",
       "      <td>CONSENSO FEDERAL</td>\n",
       "      <td>6604</td>\n",
       "    </tr>\n",
       "    <tr>\n",
       "      <th>17</th>\n",
       "      <td>COMUNA 02</td>\n",
       "      <td>FdT</td>\n",
       "      <td>19615</td>\n",
       "    </tr>\n",
       "    <tr>\n",
       "      <th>21</th>\n",
       "      <td>COMUNA 02</td>\n",
       "      <td>JxC</td>\n",
       "      <td>65519</td>\n",
       "    </tr>\n",
       "    <tr>\n",
       "      <th>29</th>\n",
       "      <td>COMUNA 03</td>\n",
       "      <td>CONSENSO FEDERAL</td>\n",
       "      <td>9685</td>\n",
       "    </tr>\n",
       "    <tr>\n",
       "      <th>31</th>\n",
       "      <td>COMUNA 03</td>\n",
       "      <td>FdT</td>\n",
       "      <td>43139</td>\n",
       "    </tr>\n",
       "    <tr>\n",
       "      <th>35</th>\n",
       "      <td>COMUNA 03</td>\n",
       "      <td>JxC</td>\n",
       "      <td>46502</td>\n",
       "    </tr>\n",
       "    <tr>\n",
       "      <th>43</th>\n",
       "      <td>COMUNA 04</td>\n",
       "      <td>CONSENSO FEDERAL</td>\n",
       "      <td>10671</td>\n",
       "    </tr>\n",
       "    <tr>\n",
       "      <th>45</th>\n",
       "      <td>COMUNA 04</td>\n",
       "      <td>FdT</td>\n",
       "      <td>57837</td>\n",
       "    </tr>\n",
       "    <tr>\n",
       "      <th>49</th>\n",
       "      <td>COMUNA 04</td>\n",
       "      <td>JxC</td>\n",
       "      <td>47191</td>\n",
       "    </tr>\n",
       "    <tr>\n",
       "      <th>57</th>\n",
       "      <td>COMUNA 05</td>\n",
       "      <td>CONSENSO FEDERAL</td>\n",
       "      <td>11063</td>\n",
       "    </tr>\n",
       "    <tr>\n",
       "      <th>59</th>\n",
       "      <td>COMUNA 05</td>\n",
       "      <td>FdT</td>\n",
       "      <td>43785</td>\n",
       "    </tr>\n",
       "    <tr>\n",
       "      <th>63</th>\n",
       "      <td>COMUNA 05</td>\n",
       "      <td>JxC</td>\n",
       "      <td>48489</td>\n",
       "    </tr>\n",
       "    <tr>\n",
       "      <th>71</th>\n",
       "      <td>COMUNA 06</td>\n",
       "      <td>CONSENSO FEDERAL</td>\n",
       "      <td>12071</td>\n",
       "    </tr>\n",
       "    <tr>\n",
       "      <th>73</th>\n",
       "      <td>COMUNA 06</td>\n",
       "      <td>FdT</td>\n",
       "      <td>38548</td>\n",
       "    </tr>\n",
       "    <tr>\n",
       "      <th>77</th>\n",
       "      <td>COMUNA 06</td>\n",
       "      <td>JxC</td>\n",
       "      <td>58450</td>\n",
       "    </tr>\n",
       "    <tr>\n",
       "      <th>85</th>\n",
       "      <td>COMUNA 07</td>\n",
       "      <td>CONSENSO FEDERAL</td>\n",
       "      <td>12772</td>\n",
       "    </tr>\n",
       "    <tr>\n",
       "      <th>87</th>\n",
       "      <td>COMUNA 07</td>\n",
       "      <td>FdT</td>\n",
       "      <td>47901</td>\n",
       "    </tr>\n",
       "    <tr>\n",
       "      <th>91</th>\n",
       "      <td>COMUNA 07</td>\n",
       "      <td>JxC</td>\n",
       "      <td>53251</td>\n",
       "    </tr>\n",
       "    <tr>\n",
       "      <th>99</th>\n",
       "      <td>COMUNA 08</td>\n",
       "      <td>CONSENSO FEDERAL</td>\n",
       "      <td>8297</td>\n",
       "    </tr>\n",
       "    <tr>\n",
       "      <th>101</th>\n",
       "      <td>COMUNA 08</td>\n",
       "      <td>FdT</td>\n",
       "      <td>51803</td>\n",
       "    </tr>\n",
       "    <tr>\n",
       "      <th>105</th>\n",
       "      <td>COMUNA 08</td>\n",
       "      <td>JxC</td>\n",
       "      <td>31848</td>\n",
       "    </tr>\n",
       "    <tr>\n",
       "      <th>113</th>\n",
       "      <td>COMUNA 09</td>\n",
       "      <td>CONSENSO FEDERAL</td>\n",
       "      <td>11999</td>\n",
       "    </tr>\n",
       "    <tr>\n",
       "      <th>115</th>\n",
       "      <td>COMUNA 09</td>\n",
       "      <td>FdT</td>\n",
       "      <td>44797</td>\n",
       "    </tr>\n",
       "    <tr>\n",
       "      <th>119</th>\n",
       "      <td>COMUNA 09</td>\n",
       "      <td>JxC</td>\n",
       "      <td>42504</td>\n",
       "    </tr>\n",
       "    <tr>\n",
       "      <th>127</th>\n",
       "      <td>COMUNA 10</td>\n",
       "      <td>CONSENSO FEDERAL</td>\n",
       "      <td>12605</td>\n",
       "    </tr>\n",
       "    <tr>\n",
       "      <th>129</th>\n",
       "      <td>COMUNA 10</td>\n",
       "      <td>FdT</td>\n",
       "      <td>40478</td>\n",
       "    </tr>\n",
       "    <tr>\n",
       "      <th>133</th>\n",
       "      <td>COMUNA 10</td>\n",
       "      <td>JxC</td>\n",
       "      <td>47071</td>\n",
       "    </tr>\n",
       "    <tr>\n",
       "      <th>141</th>\n",
       "      <td>COMUNA 11</td>\n",
       "      <td>CONSENSO FEDERAL</td>\n",
       "      <td>14253</td>\n",
       "    </tr>\n",
       "    <tr>\n",
       "      <th>143</th>\n",
       "      <td>COMUNA 11</td>\n",
       "      <td>FdT</td>\n",
       "      <td>42788</td>\n",
       "    </tr>\n",
       "    <tr>\n",
       "      <th>147</th>\n",
       "      <td>COMUNA 11</td>\n",
       "      <td>JxC</td>\n",
       "      <td>60101</td>\n",
       "    </tr>\n",
       "    <tr>\n",
       "      <th>155</th>\n",
       "      <td>COMUNA 12</td>\n",
       "      <td>CONSENSO FEDERAL</td>\n",
       "      <td>14814</td>\n",
       "    </tr>\n",
       "    <tr>\n",
       "      <th>157</th>\n",
       "      <td>COMUNA 12</td>\n",
       "      <td>FdT</td>\n",
       "      <td>45793</td>\n",
       "    </tr>\n",
       "    <tr>\n",
       "      <th>161</th>\n",
       "      <td>COMUNA 12</td>\n",
       "      <td>JxC</td>\n",
       "      <td>69058</td>\n",
       "    </tr>\n",
       "    <tr>\n",
       "      <th>169</th>\n",
       "      <td>COMUNA 13</td>\n",
       "      <td>CONSENSO FEDERAL</td>\n",
       "      <td>12963</td>\n",
       "    </tr>\n",
       "    <tr>\n",
       "      <th>171</th>\n",
       "      <td>COMUNA 13</td>\n",
       "      <td>FdT</td>\n",
       "      <td>36370</td>\n",
       "    </tr>\n",
       "    <tr>\n",
       "      <th>175</th>\n",
       "      <td>COMUNA 13</td>\n",
       "      <td>JxC</td>\n",
       "      <td>97275</td>\n",
       "    </tr>\n",
       "    <tr>\n",
       "      <th>183</th>\n",
       "      <td>COMUNA 14</td>\n",
       "      <td>CONSENSO FEDERAL</td>\n",
       "      <td>11017</td>\n",
       "    </tr>\n",
       "    <tr>\n",
       "      <th>185</th>\n",
       "      <td>COMUNA 14</td>\n",
       "      <td>FdT</td>\n",
       "      <td>35605</td>\n",
       "    </tr>\n",
       "    <tr>\n",
       "      <th>189</th>\n",
       "      <td>COMUNA 14</td>\n",
       "      <td>JxC</td>\n",
       "      <td>90998</td>\n",
       "    </tr>\n",
       "    <tr>\n",
       "      <th>197</th>\n",
       "      <td>COMUNA 15</td>\n",
       "      <td>CONSENSO FEDERAL</td>\n",
       "      <td>11488</td>\n",
       "    </tr>\n",
       "    <tr>\n",
       "      <th>199</th>\n",
       "      <td>COMUNA 15</td>\n",
       "      <td>FdT</td>\n",
       "      <td>47133</td>\n",
       "    </tr>\n",
       "    <tr>\n",
       "      <th>203</th>\n",
       "      <td>COMUNA 15</td>\n",
       "      <td>JxC</td>\n",
       "      <td>50344</td>\n",
       "    </tr>\n",
       "  </tbody>\n",
       "</table>\n",
       "</div>"
      ],
      "text/plain": [
       "    NOMBRE_REGION NOMBRE_AGRUPACION  VOTOS_AGRUPACION\n",
       "1       COMUNA 01  CONSENSO FEDERAL              8305\n",
       "3       COMUNA 01               FdT             42299\n",
       "7       COMUNA 01               JxC             54568\n",
       "15      COMUNA 02  CONSENSO FEDERAL              6604\n",
       "17      COMUNA 02               FdT             19615\n",
       "21      COMUNA 02               JxC             65519\n",
       "29      COMUNA 03  CONSENSO FEDERAL              9685\n",
       "31      COMUNA 03               FdT             43139\n",
       "35      COMUNA 03               JxC             46502\n",
       "43      COMUNA 04  CONSENSO FEDERAL             10671\n",
       "45      COMUNA 04               FdT             57837\n",
       "49      COMUNA 04               JxC             47191\n",
       "57      COMUNA 05  CONSENSO FEDERAL             11063\n",
       "59      COMUNA 05               FdT             43785\n",
       "63      COMUNA 05               JxC             48489\n",
       "71      COMUNA 06  CONSENSO FEDERAL             12071\n",
       "73      COMUNA 06               FdT             38548\n",
       "77      COMUNA 06               JxC             58450\n",
       "85      COMUNA 07  CONSENSO FEDERAL             12772\n",
       "87      COMUNA 07               FdT             47901\n",
       "91      COMUNA 07               JxC             53251\n",
       "99      COMUNA 08  CONSENSO FEDERAL              8297\n",
       "101     COMUNA 08               FdT             51803\n",
       "105     COMUNA 08               JxC             31848\n",
       "113     COMUNA 09  CONSENSO FEDERAL             11999\n",
       "115     COMUNA 09               FdT             44797\n",
       "119     COMUNA 09               JxC             42504\n",
       "127     COMUNA 10  CONSENSO FEDERAL             12605\n",
       "129     COMUNA 10               FdT             40478\n",
       "133     COMUNA 10               JxC             47071\n",
       "141     COMUNA 11  CONSENSO FEDERAL             14253\n",
       "143     COMUNA 11               FdT             42788\n",
       "147     COMUNA 11               JxC             60101\n",
       "155     COMUNA 12  CONSENSO FEDERAL             14814\n",
       "157     COMUNA 12               FdT             45793\n",
       "161     COMUNA 12               JxC             69058\n",
       "169     COMUNA 13  CONSENSO FEDERAL             12963\n",
       "171     COMUNA 13               FdT             36370\n",
       "175     COMUNA 13               JxC             97275\n",
       "183     COMUNA 14  CONSENSO FEDERAL             11017\n",
       "185     COMUNA 14               FdT             35605\n",
       "189     COMUNA 14               JxC             90998\n",
       "197     COMUNA 15  CONSENSO FEDERAL             11488\n",
       "199     COMUNA 15               FdT             47133\n",
       "203     COMUNA 15               JxC             50344"
      ]
     },
     "execution_count": 34,
     "metadata": {},
     "output_type": "execute_result"
    }
   ],
   "source": [
    "temp=comuna_final.loc[(comuna_final.NOMBRE_AGRUPACION ==\"FdT\") | (comuna_final.NOMBRE_AGRUPACION == \"JxC\") | (comuna_final.NOMBRE_AGRUPACION==\"CONSENSO FEDERAL\"),: ]\n",
    "temp"
   ]
  },
  {
   "cell_type": "code",
   "execution_count": 46,
   "metadata": {},
   "outputs": [
    {
     "data": {
      "text/plain": [
       "<AxesSubplot:xlabel='NOMBRE_REGION', ylabel='VOTOS_AGRUPACION'>"
      ]
     },
     "execution_count": 46,
     "metadata": {},
     "output_type": "execute_result"
    },
    {
     "data": {
      "image/png": "[encoded data removed]",
      "text/plain": [
       "<Figure size 1440x720 with 1 Axes>"
      ]
     },
     "metadata": {},
     "output_type": "display_data"
    }
   ],
   "source": [
    "plt.figure(figsize=(20,10))\n",
    "sns.barplot(data=temp, x=\"NOMBRE_REGION\", y=\"VOTOS_AGRUPACION\", hue=\"NOMBRE_AGRUPACION\", palette=[\"#49FF00\", \"#1597E5\", \"#FFD523\"])"
   ]
  },
  {
   "cell_type": "markdown",
   "metadata": {},
   "source": [
    "# ERRORES\n",
    "### Todas las comunas comparado con todas las fuerzas políticas. "
   ]
  },
  {
   "cell_type": "code",
   "execution_count": 16,
   "metadata": {
    "scrolled": false
   },
   "outputs": [
    {
     "data": {
      "text/plain": [
       "<Figure size 1440x720 with 0 Axes>"
      ]
     },
     "metadata": {},
     "output_type": "display_data"
    },
    {
     "data": {
      "image/png": "[encoded data removed]",
      "text/plain": [
       "<Figure size 5400x360 with 15 Axes>"
      ]
     },
     "metadata": {},
     "output_type": "display_data"
    }
   ],
   "source": [
    "plt.figure(figsize=(20,10))\n",
    "fig2=sns.catplot(x=\"NOMBRE_AGRUPACION\", y=\"VOTOS_AGRUPACION\", kind=\"bar\", data=comuna_final, col=\"NOMBRE_REGION\", palette=\"icefire\")\n"
   ]
  },
  {
   "cell_type": "code",
   "execution_count": 33,
   "metadata": {},
   "outputs": [
    {
     "ename": "ValueError",
     "evalue": "The number of FixedLocator locations (14), usually from a call to set_ticks, does not match the number of ticklabels (210).",
     "output_type": "error",
     "traceback": [
      "\u001b[1;31m---------------------------------------------------------------------------\u001b[0m",
      "\u001b[1;31mValueError\u001b[0m                                Traceback (most recent call last)",
      "\u001b[1;32m<ipython-input-33-bf18cb9bf0c5>\u001b[0m in \u001b[0;36m<module>\u001b[1;34m\u001b[0m\n\u001b[1;32m----> 1\u001b[1;33m \u001b[0mfig2\u001b[0m\u001b[1;33m.\u001b[0m\u001b[0mset_xticklabels\u001b[0m\u001b[1;33m(\u001b[0m\u001b[0mcomuna_final\u001b[0m\u001b[1;33m.\u001b[0m\u001b[0mNOMBRE_AGRUPACION\u001b[0m\u001b[1;33m,\u001b[0m \u001b[0mrotation\u001b[0m\u001b[1;33m=\u001b[0m\u001b[1;36m45\u001b[0m\u001b[1;33m,\u001b[0m \u001b[0mha\u001b[0m\u001b[1;33m=\u001b[0m\u001b[1;34m'right'\u001b[0m\u001b[1;33m)\u001b[0m\u001b[1;33m\u001b[0m\u001b[1;33m\u001b[0m\u001b[0m\n\u001b[0m",
      "\u001b[1;32m~\\anaconda3\\lib\\site-packages\\seaborn\\axisgrid.py\u001b[0m in \u001b[0;36mset_xticklabels\u001b[1;34m(self, labels, step, **kwargs)\u001b[0m\n\u001b[0;32m    848\u001b[0m                 \u001b[0max\u001b[0m\u001b[1;33m.\u001b[0m\u001b[0mset_xticklabels\u001b[0m\u001b[1;33m(\u001b[0m\u001b[0mcurr_labels\u001b[0m\u001b[1;33m,\u001b[0m \u001b[1;33m**\u001b[0m\u001b[0mkwargs\u001b[0m\u001b[1;33m)\u001b[0m\u001b[1;33m\u001b[0m\u001b[1;33m\u001b[0m\u001b[0m\n\u001b[0;32m    849\u001b[0m             \u001b[1;32melse\u001b[0m\u001b[1;33m:\u001b[0m\u001b[1;33m\u001b[0m\u001b[1;33m\u001b[0m\u001b[0m\n\u001b[1;32m--> 850\u001b[1;33m                 \u001b[0max\u001b[0m\u001b[1;33m.\u001b[0m\u001b[0mset_xticklabels\u001b[0m\u001b[1;33m(\u001b[0m\u001b[0mlabels\u001b[0m\u001b[1;33m,\u001b[0m \u001b[1;33m**\u001b[0m\u001b[0mkwargs\u001b[0m\u001b[1;33m)\u001b[0m\u001b[1;33m\u001b[0m\u001b[1;33m\u001b[0m\u001b[0m\n\u001b[0m\u001b[0;32m    851\u001b[0m         \u001b[1;32mreturn\u001b[0m \u001b[0mself\u001b[0m\u001b[1;33m\u001b[0m\u001b[1;33m\u001b[0m\u001b[0m\n\u001b[0;32m    852\u001b[0m \u001b[1;33m\u001b[0m\u001b[0m\n",
      "\u001b[1;32m~\\anaconda3\\lib\\site-packages\\matplotlib\\axes\\_base.py\u001b[0m in \u001b[0;36mwrapper\u001b[1;34m(self, *args, **kwargs)\u001b[0m\n\u001b[0;32m     61\u001b[0m             \u001b[1;32mreturn\u001b[0m \u001b[0mlinestyle\u001b[0m\u001b[1;33m,\u001b[0m \u001b[0mmarker\u001b[0m\u001b[1;33m,\u001b[0m \u001b[0mcolor\u001b[0m  \u001b[1;31m# Yes\u001b[0m\u001b[1;33m\u001b[0m\u001b[1;33m\u001b[0m\u001b[0m\n\u001b[0;32m     62\u001b[0m         \u001b[1;32melse\u001b[0m\u001b[1;33m:\u001b[0m\u001b[1;33m\u001b[0m\u001b[1;33m\u001b[0m\u001b[0m\n\u001b[1;32m---> 63\u001b[1;33m             \u001b[1;32mif\u001b[0m \u001b[0mfmt\u001b[0m \u001b[1;33m!=\u001b[0m \u001b[0mfmtint\u001b[0m\u001b[1;33m:\u001b[0m\u001b[1;33m\u001b[0m\u001b[1;33m\u001b[0m\u001b[0m\n\u001b[0m\u001b[0;32m     64\u001b[0m                 \u001b[1;31m# user definitely doesn't want tri_down marker\u001b[0m\u001b[1;33m\u001b[0m\u001b[1;33m\u001b[0m\u001b[1;33m\u001b[0m\u001b[0m\n\u001b[0;32m     65\u001b[0m                 \u001b[1;32mreturn\u001b[0m \u001b[0mlinestyle\u001b[0m\u001b[1;33m,\u001b[0m \u001b[0mmarker\u001b[0m\u001b[1;33m,\u001b[0m \u001b[0mcolor\u001b[0m  \u001b[1;31m# Yes\u001b[0m\u001b[1;33m\u001b[0m\u001b[1;33m\u001b[0m\u001b[0m\n",
      "\u001b[1;32m~\\anaconda3\\lib\\site-packages\\matplotlib\\cbook\\deprecation.py\u001b[0m in \u001b[0;36mwrapper\u001b[1;34m(*args, **kwargs)\u001b[0m\n",
      "\u001b[1;32m~\\anaconda3\\lib\\site-packages\\matplotlib\\axis.py\u001b[0m in \u001b[0;36m_set_ticklabels\u001b[1;34m(self, labels, fontdict, minor, **kwargs)\u001b[0m\n\u001b[0;32m   1791\u001b[0m     \u001b[1;32mdef\u001b[0m \u001b[0m_update_offset_text_position\u001b[0m\u001b[1;33m(\u001b[0m\u001b[0mself\u001b[0m\u001b[1;33m,\u001b[0m \u001b[0mbboxes\u001b[0m\u001b[1;33m,\u001b[0m \u001b[0mbboxes2\u001b[0m\u001b[1;33m)\u001b[0m\u001b[1;33m:\u001b[0m\u001b[1;33m\u001b[0m\u001b[1;33m\u001b[0m\u001b[0m\n\u001b[0;32m   1792\u001b[0m         \"\"\"\n\u001b[1;32m-> 1793\u001b[1;33m         \u001b[0mUpdate\u001b[0m \u001b[0mthe\u001b[0m \u001b[0moffset\u001b[0m \u001b[0mtext\u001b[0m \u001b[0mposition\u001b[0m \u001b[0mbased\u001b[0m \u001b[0mon\u001b[0m \u001b[0mthe\u001b[0m \u001b[0msequence\u001b[0m \u001b[0mof\u001b[0m \u001b[0mbounding\u001b[0m\u001b[1;33m\u001b[0m\u001b[1;33m\u001b[0m\u001b[0m\n\u001b[0m\u001b[0;32m   1794\u001b[0m         \u001b[0mboxes\u001b[0m \u001b[0mof\u001b[0m \u001b[0mall\u001b[0m \u001b[0mthe\u001b[0m \u001b[0mticklabels\u001b[0m\u001b[1;33m.\u001b[0m\u001b[1;33m\u001b[0m\u001b[1;33m\u001b[0m\u001b[0m\n\u001b[0;32m   1795\u001b[0m         \"\"\"\n",
      "\u001b[1;32m~\\anaconda3\\lib\\site-packages\\matplotlib\\axis.py\u001b[0m in \u001b[0;36mset_ticklabels\u001b[1;34m(self, ticklabels, minor, **kwargs)\u001b[0m\n\u001b[0;32m   1712\u001b[0m                 \u001b[1;34m\"3.1\"\u001b[0m\u001b[1;33m,\u001b[0m \u001b[0mmessage\u001b[0m\u001b[1;33m=\u001b[0m\u001b[1;34m\"Additional positional arguments to \"\u001b[0m\u001b[1;33m\u001b[0m\u001b[1;33m\u001b[0m\u001b[0m\n\u001b[0;32m   1713\u001b[0m                 \u001b[1;34m\"set_ticklabels are ignored, and deprecated since Matplotlib \"\u001b[0m\u001b[1;33m\u001b[0m\u001b[1;33m\u001b[0m\u001b[0m\n\u001b[1;32m-> 1714\u001b[1;33m                 \"3.1; passing them will raise a TypeError in Matplotlib 3.3.\")\n\u001b[0m\u001b[0;32m   1715\u001b[0m         \u001b[0mget_labels\u001b[0m \u001b[1;33m=\u001b[0m \u001b[1;33m[\u001b[0m\u001b[1;33m]\u001b[0m\u001b[1;33m\u001b[0m\u001b[1;33m\u001b[0m\u001b[0m\n\u001b[0;32m   1716\u001b[0m         \u001b[1;32mfor\u001b[0m \u001b[0mt\u001b[0m \u001b[1;32min\u001b[0m \u001b[0mticklabels\u001b[0m\u001b[1;33m:\u001b[0m\u001b[1;33m\u001b[0m\u001b[1;33m\u001b[0m\u001b[0m\n",
      "\u001b[1;31mValueError\u001b[0m: The number of FixedLocator locations (14), usually from a call to set_ticks, does not match the number of ticklabels (210)."
     ]
    }
   ],
   "source": [
    "fig2.set_xticklabels(comuna_final.NOMBRE_AGRUPACION, rotation=45, ha='right')"
   ]
  },
  {
   "cell_type": "code",
   "execution_count": 30,
   "metadata": {},
   "outputs": [
    {
     "name": "stdout",
     "output_type": "stream",
     "text": [
      "Requirement already satisfied: matplotlib==3.2.2 in c:\\users\\w10\\anaconda3\\lib\\site-packages (3.2.2)\n",
      "Requirement already satisfied: numpy>=1.11 in c:\\users\\w10\\anaconda3\\lib\\site-packages (from matplotlib==3.2.2) (1.19.2)\n",
      "Requirement already satisfied: pyparsing!=2.0.4,!=2.1.2,!=2.1.6,>=2.0.1 in c:\\users\\w10\\anaconda3\\lib\\site-packages (from matplotlib==3.2.2) (2.4.7)\n",
      "Requirement already satisfied: python-dateutil>=2.1 in c:\\users\\w10\\anaconda3\\lib\\site-packages (from matplotlib==3.2.2) (2.8.1)\n",
      "Requirement already satisfied: cycler>=0.10 in c:\\users\\w10\\anaconda3\\lib\\site-packages (from matplotlib==3.2.2) (0.10.0)\n",
      "Requirement already satisfied: kiwisolver>=1.0.1 in c:\\users\\w10\\anaconda3\\lib\\site-packages (from matplotlib==3.2.2) (1.3.0)\n",
      "Requirement already satisfied: six>=1.5 in c:\\users\\w10\\anaconda3\\lib\\site-packages (from python-dateutil>=2.1->matplotlib==3.2.2) (1.15.0)\n"
     ]
    }
   ],
   "source": [
    "!pip install matplotlib==3.2.2\n",
    "\n"
   ]
  },
  {
   "cell_type": "code",
   "execution_count": 43,
   "metadata": {},
   "outputs": [
    {
     "name": "stdout",
     "output_type": "stream",
     "text": [
      "3.3.2\n"
     ]
    }
   ],
   "source": [
    "import matplotlib as plt\n",
    "print(plt.__version__)"
   ]
  },
  {
   "cell_type": "code",
   "execution_count": null,
   "metadata": {},
   "outputs": [],
   "source": []
  }
 ],
 "metadata": {
  "kernelspec": {
   "display_name": "Python 3",
   "language": "python",
   "name": "python3"
  },
  "language_info": {
   "codemirror_mode": {
    "name": "ipython",
    "version": 3
   },
   "file_extension": ".py",
   "mimetype": "text/x-python",
   "name": "python",
   "nbconvert_exporter": "python",
   "pygments_lexer": "ipython3",
   "version": "3.8.5"
  }
 },
 "nbformat": 4,
 "nbformat_minor": 4
}
