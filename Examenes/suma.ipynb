{
 "cells": [
  {
   "cell_type": "code",
   "execution_count": null,
   "source": [
    "#Declarar una función que, dado un número x, sea capaz de sumar todos los números menores de x \r\n",
    "#que sean múltiplos de 2 excepto aquellos que sean también múltiplos de 4. (1 punto)\r\n",
    "#Por ejemplo: suma (10) = 2 + 6 + 10 = 18"
   ],
   "outputs": [],
   "metadata": {}
  },
  {
   "cell_type": "code",
   "execution_count": 5,
   "source": [
    "def suma(numero):                            #Funcion que suma los numeros menores e igual a x que sean múltiplos de 2 y no de 4\r\n",
    "    suma_=0                                  #Creamos variable inicializada en 0 que será la encargada de realizar la operación \r\n",
    "    for i in range (0, numero+1):            #Creamos un bucle for con rango desde 0 hasta el numero x (se agrega +1 para que lo incluya)\r\n",
    "        if i%2==0 and i%4!=0:                #Creamos condición: 2 debe ser divisor de x y dar resto 0, pero 4 no debe serlo (el resto debe dar distinto a 0)\r\n",
    "            suma_=suma_ +i                   #Sumamos a la variable suma_ cada una de las iteraciones del rango\r\n",
    "    return suma_                             #Imprimirá el resultado obtenido de la suma\r\n",
    "\r\n",
    "print(suma(20))"
   ],
   "outputs": [
    {
     "output_type": "stream",
     "name": "stdout",
     "text": [
      "50\n"
     ]
    }
   ],
   "metadata": {}
  }
 ],
 "metadata": {
  "orig_nbformat": 4,
  "language_info": {
   "name": "python",
   "version": "3.8.10",
   "mimetype": "text/x-python",
   "codemirror_mode": {
    "name": "ipython",
    "version": 3
   },
   "pygments_lexer": "ipython3",
   "nbconvert_exporter": "python",
   "file_extension": ".py"
  },
  "kernelspec": {
   "name": "python3",
   "display_name": "Python 3.8.10 64-bit ('env_aav': conda)"
  },
  "interpreter": {
   "hash": "c2a65e85174117b76744fdc66777afd1d2799ebd4c5bf909ed9861ca1a7c35de"
  }
 },
 "nbformat": 4,
 "nbformat_minor": 2
}