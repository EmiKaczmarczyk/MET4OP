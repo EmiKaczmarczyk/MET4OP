{
  "nbformat": 4,
  "nbformat_minor": 0,
  "metadata": {
    "colab": {
      "name": "Untitled40.ipynb",
      "provenance": []
    },
    "kernelspec": {
      "name": "python3",
      "display_name": "Python 3"
    },
    "language_info": {
      "name": "python"
    }
  },
  "cells": [
    {
      "cell_type": "code",
      "metadata": {
        "colab": {
          "base_uri": "https://localhost:8080/",
          "height": 154
        },
        "id": "W5wHqoyvPo0r",
        "outputId": "7164a011-6b06-4f76-bfaa-1e148a870c80"
      },
      "source": [
        "'''El padrón electoral de CABA cuenta con un total de 2.583.527 ciudadanos inscriptos, \n",
        "pero en las elecciones de 2019 votaron 2.072.802. Ese año se renovaron 12 de 25 \n",
        "diputados nacionales. En ese escenario, los resultados obtenidos fueron los siguientes:\n",
        "Frente electora\n",
        "Declarar una función que aplique la fórmula D´Hondt para cualquier caso. Pueden \n",
        "ayudarse con el ejemplo práctico anterior. (2 puntos)'''\n",
        "\n",
        "\n",
        "\n",
        "'''\n",
        "PADRON = 2.583.527 ciudadanos inscriptos\n",
        "VOTOS_2019 = 2.072.802\n",
        "RENOVACIONES_2019 = 12 de 25 diputados nacionales\n",
        "\n",
        "\n",
        "\n",
        "'''\n",
        "\n",
        "total_votos = 2072802\n",
        "votos_a = int(input(\"Ingrese los votos del partido \"))\n",
        "votos_b = int(input(\"Ingrese los votos del partido \"))\n",
        "votos_c = int(input(\"Ingrese los votos del partido \"))\n",
        "\n",
        "'''votos_d = int(input(\"Ingrese los votos del partido \"))\n",
        "votos_e = int(input(\"Ingrese los votos del partido \"))\n",
        "votos_f = int(input(\"Ingrese los votos del partido \"))\n",
        "'''\n",
        "votos_por_partido = [votos_a, votos_b, votos_c]\n",
        "\n",
        "bancas = int(input(\"Ingrese la cantidad de bancas que se disputan \"))\n",
        "lista_bancas = []\n",
        "contador = 0\n",
        "while  bancas >0:\n",
        "    contador +=1\n",
        "    lista_bancas.append(contador) \n",
        "    bancas -=1\n",
        "\n",
        "hodnt_votos = []\n",
        "\n",
        "indice = -1\n",
        "for partido in votos_por_partido:\n",
        "    indice +=1\n",
        "    hodnt_votos.append([]) \n",
        "    for b in lista_bancas:\n",
        "        cociente = partido/b\n",
        "        hodnt_votos[indice].append(cociente)\n",
        "    \n",
        "print(hodnt_votos)\n",
        "\n",
        "\n",
        "\n",
        "'''porcentaje_a = votos_a/total_votos\n",
        "porcentaje_b = votos_b/total_votos\n",
        "porcentaje_c = votos_c/total_votos\n",
        "porcentaje_d = votos_d/total_votos\n",
        "porcentaje_e = votos_e/total_votos\n",
        "porcentaje_f = votos_f/total_votos\n",
        "\n",
        "porcentaje_por_partido = [porcentaje_a, porcentaje_b, porcentaje_c, porcentaje_d, porcentaje_e, porcentaje_f]\n",
        "\n",
        "'''"
      ],
      "execution_count": 4,
      "outputs": [
        {
          "output_type": "stream",
          "name": "stdout",
          "text": [
            "Ingrese los votos del partido 100\n",
            "Ingrese los votos del partido 60\n",
            "Ingrese los votos del partido 40\n",
            "Ingrese la cantidad de bancas que se disputan 5\n",
            "[[100.0, 50.0, 33.333333333333336, 25.0, 20.0], [60.0, 30.0, 20.0, 15.0, 12.0], [40.0, 20.0, 13.333333333333334, 10.0, 8.0]]\n"
          ]
        },
        {
          "output_type": "execute_result",
          "data": {
            "application/vnd.google.colaboratory.intrinsic+json": {
              "type": "string"
            },
            "text/plain": [
              "'porcentaje_a = votos_a/total_votos\\nporcentaje_b = votos_b/total_votos\\nporcentaje_c = votos_c/total_votos\\nporcentaje_d = votos_d/total_votos\\nporcentaje_e = votos_e/total_votos\\nporcentaje_f = votos_f/total_votos\\n\\nporcentaje_por_partido = [porcentaje_a, porcentaje_b, porcentaje_c, porcentaje_d, porcentaje_e, porcentaje_f]\\n\\n'"
            ]
          },
          "metadata": {},
          "execution_count": 4
        }
      ]
    }
  ]
}