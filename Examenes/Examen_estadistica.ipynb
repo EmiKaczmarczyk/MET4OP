{
 "cells": [
  {
   "cell_type": "code",
   "execution_count": 1,
   "id": "73de1ffe",
   "metadata": {},
   "outputs": [],
   "source": [
    "import pandas as pd\n",
    "import numpy as np\n",
    "import seaborn as sns\n",
    "import random\n",
    "import statsmodels.api as sm\n",
    "import statsmodels.formula.api as smf\n",
    "from scipy import stats\n",
    "import matplotlib.pyplot as plt\n",
    "from sklearn.utils import resample\n",
    "from sklearn import linear_model"
   ]
  },
  {
   "cell_type": "markdown",
   "id": "6dd6a719",
   "metadata": {},
   "source": [
    "Hice esta funcion usando sklearn, pero no pude descifrar cómo hacer la última consigna de la prediccion con esta librería, por lo tanto más adelante lo intenté con statsmodels.  "
   ]
  },
  {
   "cell_type": "code",
   "execution_count": 4,
   "id": "3cb57efe",
   "metadata": {},
   "outputs": [],
   "source": [
    "#Con sklearn\n",
    "#La funcion pide que le pases la data a usar, x e y serían las columnas con las que se quiere trabajar.\n",
    "#Y k sería las repeticiones para hacer el bootstrap.\n",
    "def bootstrap (data, x, y, k): \n",
    "  n = len(data)                    #Para tener el tamaño de mi muestra.\n",
    "  I_k = list(range(data.shape[0])) #Muestra D=(X,Y) de tamaño n indexadas con un variable I = list(range(n))\n",
    "  b_k = []                         #En esta lista vacía voy a guardar mis coeficientes\n",
    "  #Las siguientes listas van a guardar los quantiles de cada coeficiente para despues poder armar mi dataframe con todos los datos\n",
    "  q1=[]\n",
    "  q2=[]\n",
    "  q3=[]\n",
    "  q4=[]\n",
    "  q5=[]\n",
    "  for i in range(k):              #For para bootstrapear\n",
    "    sampleo = np.random.choice(I, size=n) #1) Samplear con repetición de I un vector I*_k de tamaño n\n",
    "    d_k = data.iloc[sampleo]              #2) Elegir las I_k filas de D para generar un data set D_k (de tamaño n)\n",
    "    x_=pd.DataFrame(d_k[\"x\"])             #3) Usar D_k para calcular un modelo de regresión f al que llameremos M_k\n",
    "    y_=pd.DataFrame(d_k[\"y\"])\n",
    "    lm=linear_model.LinearRegression()\n",
    "    m_k=lm.fit(X=x_, y=y_)\n",
    "    coeficiente=m_k.coef_[0][0] #4) Extraer de M_k los coeficientes del modelo al cual llamaremos b_k, y le indico dos veces la posicion 0 para poder obtener mi coeficiente del array\n",
    "    b_k.append(coeficiente)\n",
    "    q1.append(coeficiente.quantile(0.025)) #Asi saco todos los cuantiles para el coeficiente producido\n",
    "    q2.append(coeficiente.quantile(0.25))\n",
    "    q3.append(coeficiente.quantile(0.5))\n",
    "    q4.append(coeficiente.quantile(0.75))\n",
    "    q5.append(coeficiente.quantile(0.9725))\n",
    "  \n",
    "  #Finalmente me queda un dataframe con todos los coeficientes extraidos y sus cuantiles\n",
    "  coeficientes_y_cuantiles= pd.DataFrame({\"Coeficientes\":b_k, \n",
    "                                          \"0.025\":q1,\n",
    "                                          \"0.25\":q2,\n",
    "                                          \"0.5\":q3,\n",
    "                                          \"0.75\":q4,\n",
    "                                          \"0.9725\":q5})\n",
    "  #Grafico de mis coeficientes\n",
    "  plot.hist(data= coeficientes_y_cuantiles, x=\"Coeficientes\",  color=\"Blue\")\n",
    "    \n",
    "  return coeficientes_y_cuantiles"
   ]
  },
  {
   "cell_type": "markdown",
   "id": "e2a069ea",
   "metadata": {},
   "source": [
    "Y acá usé statsmodels"
   ]
  },
  {
   "cell_type": "code",
   "execution_count": 3,
   "id": "bb37ecb6",
   "metadata": {},
   "outputs": [],
   "source": [
    "#Para hacer modelo de regresion usé https://www.statsmodels.org/dev/generated/statsmodels.regression.linear_model.OLS.html\n",
    "def bootstrap (data, x, y, k): #dejo que las repeticiones k las elija la persona que use la función\n",
    "  n = len(data)\n",
    "  I= list(range(data.shape[0])) #Muestra D=(X,Y) de tamaño n indexadas con un variable I = list(range(n))\n",
    "  b_k = [] #En esta lista vacía voy a guardar mis coeficientes\n",
    "  #Las siguientes listas van a guardar los quantiles de cada coeficiente para despues poder armar mi dataframe con todos los datos\n",
    "  q1=[]\n",
    "  q2=[]\n",
    "  q3=[]\n",
    "  q4=[]\n",
    "  q5=[]\n",
    "  y_pred=[]\n",
    "  for i in range(k):\n",
    "    sampleo = np.random.choice(I, size=n) #1) Samplear con repetición de I un vector I*_k de tamaño n\n",
    "    d_k = data.iloc[sampleo] #2) Elegir las I_k filas de D para generar un data set D_k (de tamaño n)\n",
    "    y = d_k[\"y\"]\n",
    "    x = d_k[\"x\"]\n",
    "    x = sm.add_constant(x) \n",
    "    #construyo mi modelo\n",
    "    modelo = sm.OLS(y,x)\n",
    "    resultados = modelo.fit()\n",
    "    coeficiente = resultados.params[1] #para obtener mi coeficiente de x\n",
    "    b_k.append(coeficiente)\n",
    "    q1.append(coeficiente.quantile(0.025)) #Asi saco todos los cuantiles para el coeficiente producido\n",
    "    q2.append(coeficiente.quantile(0.25))\n",
    "    q3.append(coeficiente.quantile(0.5))\n",
    "    q4.append(coeficiente.quantile(0.75))\n",
    "    q5.append(coeficiente.quantile(0.9725))\n",
    "    #Ahora para cada iteracion debo predecir el valor de y_k con el modelo que obtengo en cada iteracion\n",
    "    y_pred.append(resultados.predict(d_k['x']))\n",
    "      \n",
    "  #Finalmente me queda un dataframe con todos los coeficientes extraidos y sus cuantiles\n",
    "  coeficientes_y_cuantiles= pd.DataFrame({\"Coeficientes\":b_k, \n",
    "                                          \"0.025\":q1,\n",
    "                                          \"0.25\":q2,\n",
    "                                          \"0.5\":q3,\n",
    "                                          \"0.75\":q4,\n",
    "                                          \"0.9725\":q5})\n",
    "  \n",
    "\n",
    "  return coeficientes_y_cuantiles, y_pred"
   ]
  },
  {
   "cell_type": "code",
   "execution_count": null,
   "id": "903f5611",
   "metadata": {},
   "outputs": [],
   "source": []
  },
  {
   "cell_type": "code",
   "execution_count": null,
   "id": "f7ddfeb3",
   "metadata": {},
   "outputs": [],
   "source": []
  }
 ],
 "metadata": {
  "kernelspec": {
   "display_name": "Python 3",
   "language": "python",
   "name": "python3"
  },
  "language_info": {
   "codemirror_mode": {
    "name": "ipython",
    "version": 3
   },
   "file_extension": ".py",
   "mimetype": "text/x-python",
   "name": "python",
   "nbconvert_exporter": "python",
   "pygments_lexer": "ipython3",
   "version": "3.8.8"
  }
 },
 "nbformat": 4,
 "nbformat_minor": 5
}
