{
 "cells": [
  {
   "cell_type": "code",
   "execution_count": null,
   "metadata": {
    "id": "SXIuTXADNKRc"
   },
   "outputs": [],
   "source": []
  },
  {
   "cell_type": "code",
   "execution_count": 2,
   "metadata": {
    "colab": {
     "base_uri": "https://localhost:8080/"
    },
    "id": "UMWov_2sO3B2",
    "outputId": "44363eb6-dedf-49ce-d946-8ad1c512387b"
   },
   "outputs": [
    {
     "name": "stdout",
     "output_type": "stream",
     "text": [
      "Ingrese un año1972\n",
      "Ingrese un mes02\n",
      "4\n"
     ]
    }
   ],
   "source": [
    "\n",
    "\n",
    "from datetime import datetime\n",
    "\n",
    "\n",
    "año = int(input(\"Ingrese un año\"))\n",
    "\n",
    "mes = int(input(\"Ingrese un mes\")) \n",
    "\n",
    "año_inicial = 1970\n",
    "\n",
    "def primer_jueves_mes():\n",
    "    contador = 0\n",
    "    #Itero sobre cada año, cada mes y evaluo\n",
    "    #si el dia 1 de ese cada mes cada año es igual a jueves\n",
    "    #Week day 3 es jueves\n",
    "\n",
    "    #Recorro desde el año actual al ingresado\n",
    "    for year in range(año_inicial, año+1):\n",
    "        #si año es el actual, voy hasta el mes ingresado\n",
    "        if year == año:\n",
    "          for month in range (1,mes+1):\n",
    "              if datetime (year,month,1).weekday() == 3:\n",
    "                  contador+=1\n",
    "        else:        \n",
    "          for month in range (1,13):\n",
    "              if datetime (year,month,1).weekday() == 3:\n",
    "                  contador+=1\n",
    "\n",
    "    return contador\n",
    "\n",
    "print(primer_jueves_mes())"
   ]
  },
  {
   "cell_type": "code",
   "execution_count": null,
   "metadata": {
    "id": "v2d0202oO9Au"
   },
   "outputs": [],
   "source": []
  }
 ],
 "metadata": {
  "colab": {
   "collapsed_sections": [],
   "name": "Ejercicio_dias.ipynb",
   "provenance": []
  },
  "kernelspec": {
   "display_name": "Python 3",
   "language": "python",
   "name": "python3"
  },
  "language_info": {
   "codemirror_mode": {
    "name": "ipython",
    "version": 3
   },
   "file_extension": ".py",
   "mimetype": "text/x-python",
   "name": "python",
   "nbconvert_exporter": "python",
   "pygments_lexer": "ipython3",
   "version": "3.7.4"
  }
 },
 "nbformat": 4,
 "nbformat_minor": 1
}
