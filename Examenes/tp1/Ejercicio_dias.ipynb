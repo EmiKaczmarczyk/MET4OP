{
 "cells": [
  {
   "cell_type": "code",
   "execution_count": 2,
   "metadata": {
    "colab": {
     "base_uri": "https://localhost:8080/"
    },
    "id": "UMWov_2sO3B2",
    "outputId": "44363eb6-dedf-49ce-d946-8ad1c512387b"
   },
   "outputs": [
    {
     "name": "stdout",
     "output_type": "stream",
     "text": [
      "4\n"
     ]
    }
   ],
   "source": [
    "from datetime import datetime\n",
    "def primer_jueves_mes(fecha_limite):\n",
    "    contador = 0\n",
    "    for year in range(1970, fecha_limite +1):                 #Itero sobre cada año, cada mes y evaluo\n",
    "        for month in range(1,13):\n",
    "            if datetime(year, month, 1). weekday()==3:        #3 es jueves, si el dia 1 del mes es 3, entonces sumo al contador\n",
    "                contador +=1\n",
    "        \n",
    "    return contador\n",
    "\n",
    "print(primer_jueves_mes(1971))"
   ]
  }
 ],
 "metadata": {
  "colab": {
   "collapsed_sections": [],
   "name": "Ejercicio_dias.ipynb",
   "provenance": []
  },
  "kernelspec": {
   "display_name": "Python 3",
   "language": "python",
   "name": "python3"
  },
  "language_info": {
   "codemirror_mode": {
    "name": "ipython",
    "version": 3
   },
   "file_extension": ".py",
   "mimetype": "text/x-python",
   "name": "python",
   "nbconvert_exporter": "python",
   "pygments_lexer": "ipython3",
   "version": "3.8.5"
  }
 },
 "nbformat": 4,
 "nbformat_minor": 1
}
