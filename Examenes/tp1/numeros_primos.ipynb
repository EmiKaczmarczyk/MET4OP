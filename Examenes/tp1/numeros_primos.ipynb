{
 "cells": [
  {
   "cell_type": "code",
   "execution_count": 2,
   "source": [
    "def encontrar_primo(posicion):          #Funcion para encontrar un determinado primo. \r\n",
    "    def primo(numero):                  #Funcion que verifica si un numero es primo o no\r\n",
    "        for i in range(2,numero):       #Si encuentra divisor, entonces no es primo\r\n",
    "            if numero%i==0:\r\n",
    "                return False\r\n",
    "        else:                           #Si no lo encuentra, es primo.\r\n",
    "            return True\r\n",
    "    primos=[]                           #Creamos la lista donde guardamos nuestros numeros primos.\r\n",
    "    num=2                               #Iniciamos variable 2 porque no hay primos < 2 y nos sirve para crear el while.\r\n",
    "    while len(primos)<posicion:         #Va a entrar mientras que la longitud de la lista sea menor a la posicion ingresada.\r\n",
    "        if (primo(num)) == True:        #Verifica que el numero sea primo, si lo es lo agrega a nuestra lista.\r\n",
    "                primos.append(num)\r\n",
    "        num +=1                         #Una vez agregado, a nuestra variable le sumamos 1 para que siga ejecutandose hasta la posicion requerida.\r\n",
    "    return(primos[posicion-1])           #Cuando tengamos nuestra lista completa, imprimirá el numero anterior a la posicion que se le dio, porque el indice comienza en 0.\r\n",
    "\r\n",
    "\r\n",
    "#Probamos nuestra funcion. Ejemplo: primos=[2,3,5], nuestro 2° numero primo es el 3, entonces\r\n",
    "print(encontrar_primo(2))\r\n",
    "\r\n",
    "#Otro ejemplo: nuestro primo numero 1000 es el 7919\r\n",
    "print(encontrar_primo(1000))"
   ],
   "outputs": [
    {
     "output_type": "stream",
     "name": "stdout",
     "text": [
      "3\n",
      "7919\n"
     ]
    }
   ],
   "metadata": {}
  }
 ],
 "metadata": {
  "kernelspec": {
   "name": "python3",
   "display_name": "Python 3.7.8 64-bit"
  },
  "language_info": {
   "codemirror_mode": {
    "name": "ipython",
    "version": 3
   },
   "file_extension": ".py",
   "mimetype": "text/x-python",
   "name": "python",
   "nbconvert_exporter": "python",
   "pygments_lexer": "ipython3",
   "version": "3.7.8"
  },
  "interpreter": {
   "hash": "c0f69279918f624e7542e1c2899ca0691f8237ebb9da4cbbaf1e62d03e824436"
  }
 },
 "nbformat": 4,
 "nbformat_minor": 4
}