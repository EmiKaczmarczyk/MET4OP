{
 "cells": [
  {
   "cell_type": "code",
   "execution_count": 2,
   "metadata": {},
   "outputs": [
    {
     "name": "stdout",
     "output_type": "stream",
     "text": [
      "3\n",
      "7919\n"
     ]
    }
   ],
   "source": [
    "def primo(numero):                #Funcion que verifica si un numero es primo o no\n",
    "    for i in range(2,numero):     #Si encuentra divisor, entonces no es primo\n",
    "        if numero%i==0:\n",
    "            return False\n",
    "    else:                         #Si no lo encuentra, es primo.\n",
    "        return True\n",
    "\n",
    "def encontrar_primo(posicion):          #Funcion para encontrar un determinado primo. \n",
    "    primos=[]                           #Creamos la lista donde guardamos nuestros numeros primos.\n",
    "    num=2                               #Iniciamos variable 2 porque no hay primos < 2 y nos sirve para crear el while.\n",
    "    while len(primos)<posicion:         #Va a entrar mientras que la longitud de la lista sea menor a la posicion ingresada.\n",
    "        if (primo(num)) == True:        #Verifica que el numero sea primo, si lo es lo agrega a nuestra lista.\n",
    "                primos.append(num)\n",
    "        num +=1                         #Una vez agregado, a nuestra variable  le sumamos 1 para que siga ejecutandose hasta la posicion requerida.\n",
    "    return(primos[posicion-1])           #Cuando tengamos nuestra lista completa, imprimirá el numero anterior a la posicion que se le dio, porque el indice comienza en 0.\n",
    "\n",
    "\n",
    "#Probamos nuestra funcion. Ejemplo: primos=[2,3,5], nuestro 2° numero primo es el 3, entonces\n",
    "print(encontrar_primo(2))\n",
    "\n",
    "#Otro ejemplo: nuestro primo numero 1000 es el 7919\n",
    "print(encontrar_primo(1000))"
   ]
  },
  {
   "cell_type": "code",
   "execution_count": null,
   "metadata": {},
   "outputs": [],
   "source": []
  }
 ],
 "metadata": {
  "kernelspec": {
   "display_name": "Python 3",
   "language": "python",
   "name": "python3"
  },
  "language_info": {
   "codemirror_mode": {
    "name": "ipython",
    "version": 3
   },
   "file_extension": ".py",
   "mimetype": "text/x-python",
   "name": "python",
   "nbconvert_exporter": "python",
   "pygments_lexer": "ipython3",
   "version": "3.8.5"
  }
 },
 "nbformat": 4,
 "nbformat_minor": 4
}
