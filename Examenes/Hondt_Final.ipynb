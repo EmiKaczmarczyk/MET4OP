{
  "nbformat": 4,
  "nbformat_minor": 0,
  "metadata": {
    "colab": {
      "name": "Hondt_Final.ipynb",
      "provenance": [],
      "collapsed_sections": []
    },
    "kernelspec": {
      "name": "python3",
      "display_name": "Python 3"
    },
    "language_info": {
      "name": "python"
    }
  },
  "cells": [
    {
      "cell_type": "code",
      "metadata": {
        "colab": {
          "base_uri": "https://localhost:8080/"
        },
        "id": "W5wHqoyvPo0r",
        "outputId": "337b5f1c-806d-489d-c6aa-0c9252f754cc"
      },
      "source": [
        "\n",
        "#2072802\n",
        "\n",
        "participacion_partidos = int(input(\"Ingrese la cantidad de partidos que participan en la eleccion: \"))\n",
        "\n",
        "total_votos = int(input(\"Ingrese la cantidad de votos que se emitieron: \"))\n",
        "\n",
        "votos_por_partido = []\n",
        "for i in range (1,participacion_partidos+1):\n",
        "    votos_i =  int(input(\"Ingrese la cantidad de votos del partido \" + str(i) + \" \"))\n",
        "    votos_por_partido.append(votos_i)\n",
        "\n",
        "bancas = int(input(\"Ingrese la cantidad de bancas que se disputan \"))\n",
        "lista_bancas = []\n",
        "contador = 0\n",
        "while  bancas >0:\n",
        "    contador +=1\n",
        "    lista_bancas.append(contador) \n",
        "    bancas -=1\n",
        "\n",
        "hodnt_votos = []\n",
        "\n",
        "indice = -1\n",
        "for partido in votos_por_partido:\n",
        "    indice +=1\n",
        "    hodnt_votos.append([]) \n",
        "    for b in lista_bancas:\n",
        "        cociente = partido/b\n",
        "        hodnt_votos[indice].append(cociente)\n",
        "    \n",
        "partido1 =0\n",
        "partido2= 0\n",
        "partido3 =0\n",
        "partido4 = 0\n",
        "partido5 = 0\n",
        "partido6 = 0\n",
        "\n",
        "\n",
        "\n",
        "for b in lista_bancas:\n",
        "    maximo = max(max((hodnt_votos)))\n",
        "    if maximo in hodnt_votos[0]:\n",
        "      partido1 +=1\n",
        "      hodnt_votos[0].remove(maximo)\n",
        "    if maximo in hodnt_votos[1]:\n",
        "      partido2 +=1\n",
        "      hodnt_votos[1].remove(maximo)\n",
        "    if maximo in hodnt_votos[2]:\n",
        "      partido3 +=1\n",
        "      hodnt_votos[2].remove(maximo)  \n",
        "    if maximo in hodnt_votos[3]:\n",
        "        partido3 +=1\n",
        "        hodnt_votos[3].remove(maximo)\n",
        "    if maximo in hodnt_votos[4]:\n",
        "        partido3 +=1\n",
        "        hodnt_votos[4].remove(maximo)\n",
        "    if maximo in hodnt_votos[5]:\n",
        "        partido3 +=1\n",
        "        hodnt_votos[5].remove(maximo)\n",
        "\n",
        "\n",
        "\n",
        "print(\"El partido 1 saco \"+ str(partido1) + \" bancas\")\n",
        "\n",
        "print(\"El Partido 2 saco \"+ str(partido2) + \" bancas\")\n",
        "\n",
        "\n",
        "print(\"El Partido 3 saco \"+ str(partido3) + \" bancas\")\n",
        "\n",
        "print(\"El Partido 4 saco \"+ str(partido4) + \" bancas\")\n",
        "\n",
        "print(\"El Partido 5 saco \"+ str(partido5) + \" bancas\")\n",
        "\n",
        "print(\"El Partido 6 saco \"+ str(partido6) + \" bancas\")"
      ],
      "execution_count": 15,
      "outputs": [
        {
          "output_type": "stream",
          "name": "stdout",
          "text": [
            "Ingrese la cantidad de partidos que participan en la eleccion: 6\n",
            "Ingrese la cantidad de votos que se emitieron: 2072802\n",
            "Ingrese la cantidad de votos del partido 1 1060404\n",
            "Ingrese la cantidad de votos del partido 2 641054\n",
            "Ingrese la cantidad de votos del partido 3 114968\n",
            "Ingrese la cantidad de votos del partido 4 122560\n",
            "Ingrese la cantidad de votos del partido 5 36420\n",
            "Ingrese la cantidad de votos del partido 6 24685\n",
            "Ingrese la cantidad de bancas que se disputan 12\n",
            "El partido 1 saco 8 bancas\n",
            "El Partido 2 saco 4 bancas\n",
            "El Partido 3 saco 0 bancas\n",
            "El Partido 4 saco 0 bancas\n",
            "El Partido 5 saco 0 bancas\n",
            "El Partido 6 saco 0 bancas\n"
          ]
        }
      ]
    }
  ]
}