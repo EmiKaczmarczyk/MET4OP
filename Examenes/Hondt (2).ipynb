{
  "nbformat": 4,
  "nbformat_minor": 0,
  "metadata": {
    "colab": {
      "name": "Hodnt.ipynb",
      "provenance": [],
      "collapsed_sections": []
    },
    "kernelspec": {
      "name": "python3",
      "display_name": "Python 3"
    },
    "language_info": {
      "name": "python"
    }
  },
  "cells": [
    {
      "cell_type": "code",
      "metadata": {
        "colab": {
          "base_uri": "https://localhost:8080/"
        },
        "id": "W5wHqoyvPo0r",
        "outputId": "d754dd57-e42a-4b4c-9b0c-1222dc4831cb"
      },
      "source": [
        "'''El padrón electoral de CABA cuenta con un total de 2.583.527 ciudadanos inscriptos, \n",
        "pero en las elecciones de 2019 votaron 2.072.802. Ese año se renovaron 12 de 25 \n",
        "diputados nacionales. En ese escenario, los resultados obtenidos fueron los siguientes:\n",
        "Frente electora\n",
        "Declarar una función que aplique la fórmula D´Hondt para cualquier caso. Pueden \n",
        "ayudarse con el ejemplo práctico anterior. (2 puntos)'''\n",
        "\n",
        "import numpy as np\n",
        "\n",
        "'''\n",
        "PADRON = 2.583.527 ciudadanos inscriptos\n",
        "VOTOS_2019 = 2.072.802\n",
        "RENOVACIONES_2019 = 12 de 25 diputados nacionales\n",
        "\n",
        "\n",
        "\n",
        "'''\n",
        "\n",
        "total_votos = 2072802\n",
        "votos_a = int(input(\"Ingrese los votos del partido \"))\n",
        "votos_b = int(input(\"Ingrese los votos del partido \"))\n",
        "votos_c = int(input(\"Ingrese los votos del partido \"))\n",
        "votos_d = int(input(\"Ingrese los votos del partido \"))\n",
        "votos_e = int(input(\"Ingrese los votos del partido \"))\n",
        "votos_f = int(input(\"Ingrese los votos del partido \"))\n",
        "\n",
        "'''votos_d = int(input(\"Ingrese los votos del partido \"))\n",
        "votos_e = int(input(\"Ingrese los votos del partido \"))\n",
        "votos_f = int(input(\"Ingrese los votos del partido \"))\n",
        "'''\n",
        "votos_por_partido = [votos_a, votos_b, votos_c, votos_d, votos_e, votos_f]\n",
        "\n",
        "bancas = int(input(\"Ingrese la cantidad de bancas que se disputan \"))\n",
        "lista_bancas = []\n",
        "contador = 0\n",
        "while  bancas >0:\n",
        "    contador +=1\n",
        "    lista_bancas.append(contador) \n",
        "    bancas -=1\n",
        "\n",
        "hodnt_votos = []\n",
        "\n",
        "indice = -1\n",
        "for partido in votos_por_partido:\n",
        "    indice +=1\n",
        "    hodnt_votos.append([]) \n",
        "    for b in lista_bancas:\n",
        "        cociente = partido/b\n",
        "        hodnt_votos[indice].append(cociente)\n",
        "    \n",
        "print(hodnt_votos)\n",
        "\n",
        "\n",
        "\n",
        "lista_ordenada = hodnt_votos.sort(reverse=True)\n",
        "\n",
        "\n",
        "\n",
        "\n",
        "'''porcentaje_a = votos_a/total_votos\n",
        "porcentaje_b = votos_b/total_votos\n",
        "porcentaje_c = votos_c/total_votos\n",
        "porcentaje_d = votos_d/total_votos\n",
        "porcentaje_e = votos_e/total_votos\n",
        "porcentaje_f = votos_f/total_votos\n",
        "\n",
        "porcentaje_por_partido = [porcentaje_a, porcentaje_b, porcentaje_c, porcentaje_d, porcentaje_e, porcentaje_f]\n",
        "\n",
        "'''\n",
        "\n",
        "\n",
        "print(max(max((hodnt_votos))))\n",
        "\n",
        "partido1 =0\n",
        "partido2= 0\n",
        "partido3 =0\n",
        "partido4 = 0\n",
        "partido5 = 0\n",
        "partido6 = 0\n",
        "\n",
        "for b in lista_bancas:\n",
        "    maximo = max(max((hodnt_votos)))\n",
        "    if maximo in hodnt_votos[0]:\n",
        "       partido1 +=1\n",
        "       hodnt_votos[0].remove(maximo)\n",
        "    if maximo in hodnt_votos[1]:\n",
        "       partido2 +=1\n",
        "       hodnt_votos[1].remove(maximo)\n",
        "    if maximo in hodnt_votos[2]:\n",
        "       partido3 +=1\n",
        "       hodnt_votos[2].remove(maximo)\n",
        "    if maximo in hodnt_votos[3]:\n",
        "       partido3 +=1\n",
        "       hodnt_votos[3].remove(maximo)\n",
        "    if maximo in hodnt_votos[4]:\n",
        "       partido3 +=1\n",
        "       hodnt_votos[4].remove(maximo)\n",
        "    if maximo in hodnt_votos[5]:\n",
        "       partido3 +=1\n",
        "       hodnt_votos[5].remove(maximo)\n",
        "\n",
        "  \n",
        "print(partido1)\n",
        "print(partido2)\n",
        "print(partido3)\n",
        "print(partido4)\n",
        "print(partido5)\n",
        "print(partido6)"
      ],
      "execution_count": 16,
      "outputs": [
        {
          "output_type": "stream",
          "name": "stdout",
          "text": [
            "Ingrese los votos del partido 1060404\n",
            "Ingrese los votos del partido 641054\n",
            "Ingrese los votos del partido 114968\n",
            "Ingrese los votos del partido 122560\n",
            "Ingrese los votos del partido 36420\n",
            "Ingrese los votos del partido 24685\n",
            "Ingrese la cantidad de bancas que se disputan 12\n",
            "[[1060404.0, 530202.0, 353468.0, 265101.0, 212080.8, 176734.0, 151486.2857142857, 132550.5, 117822.66666666667, 106040.4, 96400.36363636363, 88367.0], [641054.0, 320527.0, 213684.66666666666, 160263.5, 128210.8, 106842.33333333333, 91579.14285714286, 80131.75, 71228.22222222222, 64105.4, 58277.63636363636, 53421.166666666664], [114968.0, 57484.0, 38322.666666666664, 28742.0, 22993.6, 19161.333333333332, 16424.0, 14371.0, 12774.222222222223, 11496.8, 10451.636363636364, 9580.666666666666], [122560.0, 61280.0, 40853.333333333336, 30640.0, 24512.0, 20426.666666666668, 17508.571428571428, 15320.0, 13617.777777777777, 12256.0, 11141.818181818182, 10213.333333333334], [36420.0, 18210.0, 12140.0, 9105.0, 7284.0, 6070.0, 5202.857142857143, 4552.5, 4046.6666666666665, 3642.0, 3310.909090909091, 3035.0], [24685.0, 12342.5, 8228.333333333334, 6171.25, 4937.0, 4114.166666666667, 3526.4285714285716, 3085.625, 2742.777777777778, 2468.5, 2244.090909090909, 2057.0833333333335]]\n",
            "1060404.0\n",
            "8\n",
            "4\n",
            "0\n",
            "0\n",
            "0\n",
            "0\n"
          ]
        }
      ]
    },
    {
      "cell_type": "code",
      "metadata": {
        "colab": {
          "base_uri": "https://localhost:8080/",
          "height": 248
        },
        "id": "Y87V25WcTd4G",
        "outputId": "93260c2f-dc70-402e-bb62-e8c5d53c4df0"
      },
      "source": [
        "\n"
      ],
      "execution_count": 14,
      "outputs": [
        {
          "output_type": "stream",
          "name": "stdout",
          "text": [
            "10.0\n"
          ]
        },
        {
          "output_type": "error",
          "ename": "ValueError",
          "evalue": "ignored",
          "traceback": [
            "\u001b[0;31m---------------------------------------------------------------------------\u001b[0m",
            "\u001b[0;31mValueError\u001b[0m                                Traceback (most recent call last)",
            "\u001b[0;32m<ipython-input-14-a0bbbcbcda77>\u001b[0m in \u001b[0;36m<module>\u001b[0;34m()\u001b[0m\n\u001b[1;32m      7\u001b[0m \u001b[0;34m\u001b[0m\u001b[0m\n\u001b[1;32m      8\u001b[0m \u001b[0;32mfor\u001b[0m \u001b[0mb\u001b[0m \u001b[0;32min\u001b[0m \u001b[0mlista_bancas\u001b[0m\u001b[0;34m:\u001b[0m\u001b[0;34m\u001b[0m\u001b[0;34m\u001b[0m\u001b[0m\n\u001b[0;32m----> 9\u001b[0;31m     \u001b[0mmaximo\u001b[0m \u001b[0;34m=\u001b[0m \u001b[0mmax\u001b[0m\u001b[0;34m(\u001b[0m\u001b[0mmax\u001b[0m\u001b[0;34m(\u001b[0m\u001b[0;34m(\u001b[0m\u001b[0mhodnt_votos\u001b[0m\u001b[0;34m)\u001b[0m\u001b[0;34m)\u001b[0m\u001b[0;34m)\u001b[0m\u001b[0;34m\u001b[0m\u001b[0;34m\u001b[0m\u001b[0m\n\u001b[0m\u001b[1;32m     10\u001b[0m     \u001b[0;32mif\u001b[0m \u001b[0mmaximo\u001b[0m \u001b[0;32min\u001b[0m \u001b[0mhodnt_votos\u001b[0m\u001b[0;34m[\u001b[0m\u001b[0;36m0\u001b[0m\u001b[0;34m]\u001b[0m\u001b[0;34m:\u001b[0m\u001b[0;34m\u001b[0m\u001b[0;34m\u001b[0m\u001b[0m\n\u001b[1;32m     11\u001b[0m        \u001b[0mpartido1\u001b[0m \u001b[0;34m+=\u001b[0m\u001b[0;36m1\u001b[0m\u001b[0;34m\u001b[0m\u001b[0;34m\u001b[0m\u001b[0m\n",
            "\u001b[0;31mValueError\u001b[0m: max() arg is an empty sequence"
          ]
        }
      ]
    }
  ]
}